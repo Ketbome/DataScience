{
 "cells": [
  {
   "cell_type": "code",
   "execution_count": 232,
   "metadata": {},
   "outputs": [
    {
     "name": "stdout",
     "output_type": "stream",
     "text": [
      "GPU no disponible.\n"
     ]
    }
   ],
   "source": [
    "import pandas as pd\n",
    "import numpy as np\n",
    "import time\n",
    "import os\n",
    "from sklearn.model_selection import train_test_split\n",
    "from sklearn.metrics import mean_squared_error, mean_absolute_error, r2_score\n",
    "import tensorflow as tf\n",
    "from tensorflow import keras\n",
    "import joblib\n",
    "\n",
    "# Verificar que la GPU está disponible\n",
    "physical_devices = tf.config.list_physical_devices('GPU')\n",
    "if len(physical_devices) > 0:\n",
    "    print(\"GPU disponible.\")\n",
    "else:\n",
    "    print(\"GPU no disponible.\")"
   ]
  },
  {
   "cell_type": "code",
   "execution_count": 233,
   "metadata": {},
   "outputs": [],
   "source": [
    "# Crear la carpeta 'resultados' si no existe\n",
    "if not os.path.exists('resultados'):\n",
    "    os.makedirs('resultados')"
   ]
  },
  {
   "cell_type": "code",
   "execution_count": 234,
   "metadata": {},
   "outputs": [
    {
     "name": "stderr",
     "output_type": "stream",
     "text": [
      "C:\\Users\\Ketbome\\AppData\\Local\\Temp\\ipykernel_10868\\909222528.py:3: DtypeWarning: Columns (25) have mixed types. Specify dtype option on import or set low_memory=False.\n",
      "  data_all = pd.read_csv(cleaned_data_path)\n"
     ]
    }
   ],
   "source": [
    "# Cargar los datos\n",
    "cleaned_data_path = '../datasets/cleaned_data.csv'\n",
    "data_all = pd.read_csv(cleaned_data_path)"
   ]
  },
  {
   "cell_type": "code",
   "execution_count": 235,
   "metadata": {},
   "outputs": [
    {
     "data": {
      "text/html": [
       "<div>\n",
       "<style scoped>\n",
       "    .dataframe tbody tr th:only-of-type {\n",
       "        vertical-align: middle;\n",
       "    }\n",
       "\n",
       "    .dataframe tbody tr th {\n",
       "        vertical-align: top;\n",
       "    }\n",
       "\n",
       "    .dataframe thead th {\n",
       "        text-align: right;\n",
       "    }\n",
       "</style>\n",
       "<table border=\"1\" class=\"dataframe\">\n",
       "  <thead>\n",
       "    <tr style=\"text-align: right;\">\n",
       "      <th></th>\n",
       "      <th>ï»¿AGNO</th>\n",
       "      <th>RBD</th>\n",
       "      <th>DGV_RBD</th>\n",
       "      <th>NOM_RBD</th>\n",
       "      <th>COD_REG_RBD</th>\n",
       "      <th>NOM_REG_RBD_A</th>\n",
       "      <th>COD_PRO_RBD</th>\n",
       "      <th>COD_COM_RBD</th>\n",
       "      <th>NOM_COM_RBD</th>\n",
       "      <th>COD_DEPROV_RBD</th>\n",
       "      <th>...</th>\n",
       "      <th>COD_COM_ALU</th>\n",
       "      <th>NOM_COM_ALU</th>\n",
       "      <th>COD_RAMA</th>\n",
       "      <th>COD_SEC</th>\n",
       "      <th>COD_ESPE</th>\n",
       "      <th>PROM_GRAL</th>\n",
       "      <th>ASISTENCIA</th>\n",
       "      <th>SIT_FIN</th>\n",
       "      <th>SIT_FIN_R</th>\n",
       "      <th>COD_MEN</th>\n",
       "    </tr>\n",
       "  </thead>\n",
       "  <tbody>\n",
       "    <tr>\n",
       "      <th>0</th>\n",
       "      <td>2022</td>\n",
       "      <td>1</td>\n",
       "      <td>9</td>\n",
       "      <td>LICEO POLITECNICO ARICA</td>\n",
       "      <td>15</td>\n",
       "      <td>AYP</td>\n",
       "      <td>151</td>\n",
       "      <td>15101</td>\n",
       "      <td>ARICA</td>\n",
       "      <td>151</td>\n",
       "      <td>...</td>\n",
       "      <td>15101</td>\n",
       "      <td>ARICA</td>\n",
       "      <td>400</td>\n",
       "      <td>410</td>\n",
       "      <td>41001</td>\n",
       "      <td>6.6</td>\n",
       "      <td>98</td>\n",
       "      <td>P</td>\n",
       "      <td>P</td>\n",
       "      <td>0</td>\n",
       "    </tr>\n",
       "    <tr>\n",
       "      <th>1</th>\n",
       "      <td>2022</td>\n",
       "      <td>1</td>\n",
       "      <td>9</td>\n",
       "      <td>LICEO POLITECNICO ARICA</td>\n",
       "      <td>15</td>\n",
       "      <td>AYP</td>\n",
       "      <td>151</td>\n",
       "      <td>15101</td>\n",
       "      <td>ARICA</td>\n",
       "      <td>151</td>\n",
       "      <td>...</td>\n",
       "      <td>15101</td>\n",
       "      <td>ARICA</td>\n",
       "      <td>400</td>\n",
       "      <td>410</td>\n",
       "      <td>41001</td>\n",
       "      <td>6.2</td>\n",
       "      <td>85</td>\n",
       "      <td>P</td>\n",
       "      <td>P</td>\n",
       "      <td>0</td>\n",
       "    </tr>\n",
       "    <tr>\n",
       "      <th>2</th>\n",
       "      <td>2022</td>\n",
       "      <td>1</td>\n",
       "      <td>9</td>\n",
       "      <td>LICEO POLITECNICO ARICA</td>\n",
       "      <td>15</td>\n",
       "      <td>AYP</td>\n",
       "      <td>151</td>\n",
       "      <td>15101</td>\n",
       "      <td>ARICA</td>\n",
       "      <td>151</td>\n",
       "      <td>...</td>\n",
       "      <td>15101</td>\n",
       "      <td>ARICA</td>\n",
       "      <td>400</td>\n",
       "      <td>410</td>\n",
       "      <td>41001</td>\n",
       "      <td>6.3</td>\n",
       "      <td>86</td>\n",
       "      <td>P</td>\n",
       "      <td>P</td>\n",
       "      <td>0</td>\n",
       "    </tr>\n",
       "    <tr>\n",
       "      <th>3</th>\n",
       "      <td>2022</td>\n",
       "      <td>1</td>\n",
       "      <td>9</td>\n",
       "      <td>LICEO POLITECNICO ARICA</td>\n",
       "      <td>15</td>\n",
       "      <td>AYP</td>\n",
       "      <td>151</td>\n",
       "      <td>15101</td>\n",
       "      <td>ARICA</td>\n",
       "      <td>151</td>\n",
       "      <td>...</td>\n",
       "      <td>15101</td>\n",
       "      <td>ARICA</td>\n",
       "      <td>400</td>\n",
       "      <td>410</td>\n",
       "      <td>41001</td>\n",
       "      <td>6.3</td>\n",
       "      <td>100</td>\n",
       "      <td>P</td>\n",
       "      <td>P</td>\n",
       "      <td>0</td>\n",
       "    </tr>\n",
       "    <tr>\n",
       "      <th>4</th>\n",
       "      <td>2022</td>\n",
       "      <td>1</td>\n",
       "      <td>9</td>\n",
       "      <td>LICEO POLITECNICO ARICA</td>\n",
       "      <td>15</td>\n",
       "      <td>AYP</td>\n",
       "      <td>151</td>\n",
       "      <td>15101</td>\n",
       "      <td>ARICA</td>\n",
       "      <td>151</td>\n",
       "      <td>...</td>\n",
       "      <td>15101</td>\n",
       "      <td>ARICA</td>\n",
       "      <td>400</td>\n",
       "      <td>410</td>\n",
       "      <td>41001</td>\n",
       "      <td>6.7</td>\n",
       "      <td>100</td>\n",
       "      <td>P</td>\n",
       "      <td>P</td>\n",
       "      <td>0</td>\n",
       "    </tr>\n",
       "  </tbody>\n",
       "</table>\n",
       "<p>5 rows × 37 columns</p>\n",
       "</div>"
      ],
      "text/plain": [
       "   ï»¿AGNO  RBD  DGV_RBD                  NOM_RBD  COD_REG_RBD NOM_REG_RBD_A  \\\n",
       "0     2022    1        9  LICEO POLITECNICO ARICA           15           AYP   \n",
       "1     2022    1        9  LICEO POLITECNICO ARICA           15           AYP   \n",
       "2     2022    1        9  LICEO POLITECNICO ARICA           15           AYP   \n",
       "3     2022    1        9  LICEO POLITECNICO ARICA           15           AYP   \n",
       "4     2022    1        9  LICEO POLITECNICO ARICA           15           AYP   \n",
       "\n",
       "   COD_PRO_RBD  COD_COM_RBD NOM_COM_RBD  COD_DEPROV_RBD  ... COD_COM_ALU  \\\n",
       "0          151        15101       ARICA             151  ...       15101   \n",
       "1          151        15101       ARICA             151  ...       15101   \n",
       "2          151        15101       ARICA             151  ...       15101   \n",
       "3          151        15101       ARICA             151  ...       15101   \n",
       "4          151        15101       ARICA             151  ...       15101   \n",
       "\n",
       "   NOM_COM_ALU  COD_RAMA  COD_SEC  COD_ESPE  PROM_GRAL  ASISTENCIA  SIT_FIN  \\\n",
       "0        ARICA       400      410     41001        6.6          98        P   \n",
       "1        ARICA       400      410     41001        6.2          85        P   \n",
       "2        ARICA       400      410     41001        6.3          86        P   \n",
       "3        ARICA       400      410     41001        6.3         100        P   \n",
       "4        ARICA       400      410     41001        6.7         100        P   \n",
       "\n",
       "  SIT_FIN_R  COD_MEN  \n",
       "0         P        0  \n",
       "1         P        0  \n",
       "2         P        0  \n",
       "3         P        0  \n",
       "4         P        0  \n",
       "\n",
       "[5 rows x 37 columns]"
      ]
     },
     "execution_count": 235,
     "metadata": {},
     "output_type": "execute_result"
    }
   ],
   "source": [
    "data_all.head()"
   ]
  },
  {
   "cell_type": "code",
   "execution_count": 236,
   "metadata": {},
   "outputs": [
    {
     "data": {
      "text/html": [
       "<div>\n",
       "<style scoped>\n",
       "    .dataframe tbody tr th:only-of-type {\n",
       "        vertical-align: middle;\n",
       "    }\n",
       "\n",
       "    .dataframe tbody tr th {\n",
       "        vertical-align: top;\n",
       "    }\n",
       "\n",
       "    .dataframe thead th {\n",
       "        text-align: right;\n",
       "    }\n",
       "</style>\n",
       "<table border=\"1\" class=\"dataframe\">\n",
       "  <thead>\n",
       "    <tr style=\"text-align: right;\">\n",
       "      <th></th>\n",
       "      <th>ï»¿AGNO</th>\n",
       "      <th>RBD</th>\n",
       "      <th>DGV_RBD</th>\n",
       "      <th>COD_REG_RBD</th>\n",
       "      <th>COD_PRO_RBD</th>\n",
       "      <th>COD_COM_RBD</th>\n",
       "      <th>COD_DEPROV_RBD</th>\n",
       "      <th>COD_DEPE</th>\n",
       "      <th>COD_DEPE2</th>\n",
       "      <th>RURAL_RBD</th>\n",
       "      <th>...</th>\n",
       "      <th>GEN_ALU</th>\n",
       "      <th>FEC_NAC_ALU</th>\n",
       "      <th>COD_REG_ALU</th>\n",
       "      <th>COD_COM_ALU</th>\n",
       "      <th>COD_RAMA</th>\n",
       "      <th>COD_SEC</th>\n",
       "      <th>COD_ESPE</th>\n",
       "      <th>PROM_GRAL</th>\n",
       "      <th>ASISTENCIA</th>\n",
       "      <th>COD_MEN</th>\n",
       "    </tr>\n",
       "  </thead>\n",
       "  <tbody>\n",
       "    <tr>\n",
       "      <th>count</th>\n",
       "      <td>3092863.0</td>\n",
       "      <td>3.092863e+06</td>\n",
       "      <td>3.092863e+06</td>\n",
       "      <td>3.092863e+06</td>\n",
       "      <td>3.092863e+06</td>\n",
       "      <td>3.092863e+06</td>\n",
       "      <td>3.092863e+06</td>\n",
       "      <td>3.092863e+06</td>\n",
       "      <td>3.092863e+06</td>\n",
       "      <td>3.092863e+06</td>\n",
       "      <td>...</td>\n",
       "      <td>3.092863e+06</td>\n",
       "      <td>3.092863e+06</td>\n",
       "      <td>3.092863e+06</td>\n",
       "      <td>3.092863e+06</td>\n",
       "      <td>3.092863e+06</td>\n",
       "      <td>3.092863e+06</td>\n",
       "      <td>3.092863e+06</td>\n",
       "      <td>3.092863e+06</td>\n",
       "      <td>3.092863e+06</td>\n",
       "      <td>3.092863e+06</td>\n",
       "    </tr>\n",
       "    <tr>\n",
       "      <th>mean</th>\n",
       "      <td>2022.0</td>\n",
       "      <td>1.165594e+04</td>\n",
       "      <td>4.451590e+00</td>\n",
       "      <td>9.405875e+00</td>\n",
       "      <td>9.599672e+01</td>\n",
       "      <td>9.606289e+03</td>\n",
       "      <td>9.458625e+01</td>\n",
       "      <td>2.844326e+00</td>\n",
       "      <td>1.950878e+00</td>\n",
       "      <td>7.923080e-02</td>\n",
       "      <td>...</td>\n",
       "      <td>1.487296e+00</td>\n",
       "      <td>2.009223e+05</td>\n",
       "      <td>9.477278e+00</td>\n",
       "      <td>9.674496e+03</td>\n",
       "      <td>2.710253e+01</td>\n",
       "      <td>2.844374e+01</td>\n",
       "      <td>2.844879e+03</td>\n",
       "      <td>6.016696e+00</td>\n",
       "      <td>8.791779e+01</td>\n",
       "      <td>1.256763e+06</td>\n",
       "    </tr>\n",
       "    <tr>\n",
       "      <th>std</th>\n",
       "      <td>0.0</td>\n",
       "      <td>9.040180e+03</td>\n",
       "      <td>2.880477e+00</td>\n",
       "      <td>4.006076e+00</td>\n",
       "      <td>3.985246e+01</td>\n",
       "      <td>3.988039e+03</td>\n",
       "      <td>3.941338e+01</td>\n",
       "      <td>1.103612e+00</td>\n",
       "      <td>9.592328e-01</td>\n",
       "      <td>2.700987e-01</td>\n",
       "      <td>...</td>\n",
       "      <td>4.998419e-01</td>\n",
       "      <td>5.383089e+02</td>\n",
       "      <td>4.022214e+00</td>\n",
       "      <td>4.004428e+03</td>\n",
       "      <td>1.165727e+02</td>\n",
       "      <td>1.223818e+02</td>\n",
       "      <td>1.224033e+04</td>\n",
       "      <td>6.925039e-01</td>\n",
       "      <td>1.147545e+01</td>\n",
       "      <td>8.217453e+06</td>\n",
       "    </tr>\n",
       "    <tr>\n",
       "      <th>min</th>\n",
       "      <td>2022.0</td>\n",
       "      <td>1.000000e+00</td>\n",
       "      <td>0.000000e+00</td>\n",
       "      <td>1.000000e+00</td>\n",
       "      <td>1.100000e+01</td>\n",
       "      <td>1.101000e+03</td>\n",
       "      <td>1.100000e+01</td>\n",
       "      <td>1.000000e+00</td>\n",
       "      <td>1.000000e+00</td>\n",
       "      <td>0.000000e+00</td>\n",
       "      <td>...</td>\n",
       "      <td>0.000000e+00</td>\n",
       "      <td>1.900010e+05</td>\n",
       "      <td>1.000000e+00</td>\n",
       "      <td>1.101000e+03</td>\n",
       "      <td>0.000000e+00</td>\n",
       "      <td>0.000000e+00</td>\n",
       "      <td>0.000000e+00</td>\n",
       "      <td>1.000000e+00</td>\n",
       "      <td>1.000000e+00</td>\n",
       "      <td>0.000000e+00</td>\n",
       "    </tr>\n",
       "    <tr>\n",
       "      <th>25%</th>\n",
       "      <td>2022.0</td>\n",
       "      <td>4.553000e+03</td>\n",
       "      <td>2.000000e+00</td>\n",
       "      <td>6.000000e+00</td>\n",
       "      <td>6.100000e+01</td>\n",
       "      <td>6.106000e+03</td>\n",
       "      <td>6.100000e+01</td>\n",
       "      <td>2.000000e+00</td>\n",
       "      <td>1.000000e+00</td>\n",
       "      <td>0.000000e+00</td>\n",
       "      <td>...</td>\n",
       "      <td>1.000000e+00</td>\n",
       "      <td>2.007010e+05</td>\n",
       "      <td>6.000000e+00</td>\n",
       "      <td>6.108000e+03</td>\n",
       "      <td>0.000000e+00</td>\n",
       "      <td>0.000000e+00</td>\n",
       "      <td>0.000000e+00</td>\n",
       "      <td>5.700000e+00</td>\n",
       "      <td>8.500000e+01</td>\n",
       "      <td>0.000000e+00</td>\n",
       "    </tr>\n",
       "    <tr>\n",
       "      <th>50%</th>\n",
       "      <td>2022.0</td>\n",
       "      <td>9.799000e+03</td>\n",
       "      <td>4.000000e+00</td>\n",
       "      <td>1.000000e+01</td>\n",
       "      <td>1.010000e+02</td>\n",
       "      <td>1.010100e+04</td>\n",
       "      <td>9.200000e+01</td>\n",
       "      <td>3.000000e+00</td>\n",
       "      <td>2.000000e+00</td>\n",
       "      <td>0.000000e+00</td>\n",
       "      <td>...</td>\n",
       "      <td>1.000000e+00</td>\n",
       "      <td>2.010020e+05</td>\n",
       "      <td>1.000000e+01</td>\n",
       "      <td>1.010700e+04</td>\n",
       "      <td>0.000000e+00</td>\n",
       "      <td>0.000000e+00</td>\n",
       "      <td>0.000000e+00</td>\n",
       "      <td>6.100000e+00</td>\n",
       "      <td>9.000000e+01</td>\n",
       "      <td>0.000000e+00</td>\n",
       "    </tr>\n",
       "    <tr>\n",
       "      <th>75%</th>\n",
       "      <td>2022.0</td>\n",
       "      <td>1.667300e+04</td>\n",
       "      <td>7.000000e+00</td>\n",
       "      <td>1.300000e+01</td>\n",
       "      <td>1.310000e+02</td>\n",
       "      <td>1.312200e+04</td>\n",
       "      <td>1.340000e+02</td>\n",
       "      <td>3.000000e+00</td>\n",
       "      <td>2.000000e+00</td>\n",
       "      <td>0.000000e+00</td>\n",
       "      <td>...</td>\n",
       "      <td>2.000000e+00</td>\n",
       "      <td>2.013020e+05</td>\n",
       "      <td>1.300000e+01</td>\n",
       "      <td>1.312200e+04</td>\n",
       "      <td>0.000000e+00</td>\n",
       "      <td>0.000000e+00</td>\n",
       "      <td>0.000000e+00</td>\n",
       "      <td>6.500000e+00</td>\n",
       "      <td>9.500000e+01</td>\n",
       "      <td>0.000000e+00</td>\n",
       "    </tr>\n",
       "    <tr>\n",
       "      <th>max</th>\n",
       "      <td>2022.0</td>\n",
       "      <td>4.213000e+04</td>\n",
       "      <td>9.000000e+00</td>\n",
       "      <td>1.600000e+01</td>\n",
       "      <td>1.630000e+02</td>\n",
       "      <td>1.630500e+04</td>\n",
       "      <td>1.510000e+02</td>\n",
       "      <td>6.000000e+00</td>\n",
       "      <td>5.000000e+00</td>\n",
       "      <td>1.000000e+00</td>\n",
       "      <td>...</td>\n",
       "      <td>2.000000e+00</td>\n",
       "      <td>2.018120e+05</td>\n",
       "      <td>1.600000e+01</td>\n",
       "      <td>1.630500e+04</td>\n",
       "      <td>9.000000e+02</td>\n",
       "      <td>9.100000e+02</td>\n",
       "      <td>9.100500e+04</td>\n",
       "      <td>7.000000e+00</td>\n",
       "      <td>1.000000e+02</td>\n",
       "      <td>7.200700e+07</td>\n",
       "    </tr>\n",
       "  </tbody>\n",
       "</table>\n",
       "<p>8 rows × 28 columns</p>\n",
       "</div>"
      ],
      "text/plain": [
       "         ï»¿AGNO           RBD       DGV_RBD   COD_REG_RBD   COD_PRO_RBD  \\\n",
       "count  3092863.0  3.092863e+06  3.092863e+06  3.092863e+06  3.092863e+06   \n",
       "mean      2022.0  1.165594e+04  4.451590e+00  9.405875e+00  9.599672e+01   \n",
       "std          0.0  9.040180e+03  2.880477e+00  4.006076e+00  3.985246e+01   \n",
       "min       2022.0  1.000000e+00  0.000000e+00  1.000000e+00  1.100000e+01   \n",
       "25%       2022.0  4.553000e+03  2.000000e+00  6.000000e+00  6.100000e+01   \n",
       "50%       2022.0  9.799000e+03  4.000000e+00  1.000000e+01  1.010000e+02   \n",
       "75%       2022.0  1.667300e+04  7.000000e+00  1.300000e+01  1.310000e+02   \n",
       "max       2022.0  4.213000e+04  9.000000e+00  1.600000e+01  1.630000e+02   \n",
       "\n",
       "        COD_COM_RBD  COD_DEPROV_RBD      COD_DEPE     COD_DEPE2     RURAL_RBD  \\\n",
       "count  3.092863e+06    3.092863e+06  3.092863e+06  3.092863e+06  3.092863e+06   \n",
       "mean   9.606289e+03    9.458625e+01  2.844326e+00  1.950878e+00  7.923080e-02   \n",
       "std    3.988039e+03    3.941338e+01  1.103612e+00  9.592328e-01  2.700987e-01   \n",
       "min    1.101000e+03    1.100000e+01  1.000000e+00  1.000000e+00  0.000000e+00   \n",
       "25%    6.106000e+03    6.100000e+01  2.000000e+00  1.000000e+00  0.000000e+00   \n",
       "50%    1.010100e+04    9.200000e+01  3.000000e+00  2.000000e+00  0.000000e+00   \n",
       "75%    1.312200e+04    1.340000e+02  3.000000e+00  2.000000e+00  0.000000e+00   \n",
       "max    1.630500e+04    1.510000e+02  6.000000e+00  5.000000e+00  1.000000e+00   \n",
       "\n",
       "       ...       GEN_ALU   FEC_NAC_ALU   COD_REG_ALU   COD_COM_ALU  \\\n",
       "count  ...  3.092863e+06  3.092863e+06  3.092863e+06  3.092863e+06   \n",
       "mean   ...  1.487296e+00  2.009223e+05  9.477278e+00  9.674496e+03   \n",
       "std    ...  4.998419e-01  5.383089e+02  4.022214e+00  4.004428e+03   \n",
       "min    ...  0.000000e+00  1.900010e+05  1.000000e+00  1.101000e+03   \n",
       "25%    ...  1.000000e+00  2.007010e+05  6.000000e+00  6.108000e+03   \n",
       "50%    ...  1.000000e+00  2.010020e+05  1.000000e+01  1.010700e+04   \n",
       "75%    ...  2.000000e+00  2.013020e+05  1.300000e+01  1.312200e+04   \n",
       "max    ...  2.000000e+00  2.018120e+05  1.600000e+01  1.630500e+04   \n",
       "\n",
       "           COD_RAMA       COD_SEC      COD_ESPE     PROM_GRAL    ASISTENCIA  \\\n",
       "count  3.092863e+06  3.092863e+06  3.092863e+06  3.092863e+06  3.092863e+06   \n",
       "mean   2.710253e+01  2.844374e+01  2.844879e+03  6.016696e+00  8.791779e+01   \n",
       "std    1.165727e+02  1.223818e+02  1.224033e+04  6.925039e-01  1.147545e+01   \n",
       "min    0.000000e+00  0.000000e+00  0.000000e+00  1.000000e+00  1.000000e+00   \n",
       "25%    0.000000e+00  0.000000e+00  0.000000e+00  5.700000e+00  8.500000e+01   \n",
       "50%    0.000000e+00  0.000000e+00  0.000000e+00  6.100000e+00  9.000000e+01   \n",
       "75%    0.000000e+00  0.000000e+00  0.000000e+00  6.500000e+00  9.500000e+01   \n",
       "max    9.000000e+02  9.100000e+02  9.100500e+04  7.000000e+00  1.000000e+02   \n",
       "\n",
       "            COD_MEN  \n",
       "count  3.092863e+06  \n",
       "mean   1.256763e+06  \n",
       "std    8.217453e+06  \n",
       "min    0.000000e+00  \n",
       "25%    0.000000e+00  \n",
       "50%    0.000000e+00  \n",
       "75%    0.000000e+00  \n",
       "max    7.200700e+07  \n",
       "\n",
       "[8 rows x 28 columns]"
      ]
     },
     "execution_count": 236,
     "metadata": {},
     "output_type": "execute_result"
    }
   ],
   "source": [
    "data_all.describe()"
   ]
  },
  {
   "cell_type": "code",
   "execution_count": 237,
   "metadata": {},
   "outputs": [
    {
     "data": {
      "text/plain": [
       "ï»¿AGNO           0\n",
       "RBD               0\n",
       "DGV_RBD           0\n",
       "NOM_RBD           0\n",
       "COD_REG_RBD       0\n",
       "NOM_REG_RBD_A     0\n",
       "COD_PRO_RBD       0\n",
       "COD_COM_RBD       0\n",
       "NOM_COM_RBD       0\n",
       "COD_DEPROV_RBD    0\n",
       "NOM_DEPROV_RBD    0\n",
       "COD_DEPE          0\n",
       "COD_DEPE2         0\n",
       "RURAL_RBD         0\n",
       "ESTADO_ESTAB      0\n",
       "COD_ENSE          0\n",
       "COD_ENSE2         0\n",
       "COD_GRADO         0\n",
       "LET_CUR           0\n",
       "COD_JOR           0\n",
       "COD_TIP_CUR       0\n",
       "COD_DES_CUR       0\n",
       "MRUN              0\n",
       "GEN_ALU           0\n",
       "FEC_NAC_ALU       0\n",
       "EDAD_ALU          0\n",
       "COD_REG_ALU       0\n",
       "COD_COM_ALU       0\n",
       "NOM_COM_ALU       0\n",
       "COD_RAMA          0\n",
       "COD_SEC           0\n",
       "COD_ESPE          0\n",
       "PROM_GRAL         0\n",
       "ASISTENCIA        0\n",
       "SIT_FIN           0\n",
       "SIT_FIN_R         0\n",
       "COD_MEN           0\n",
       "dtype: int64"
      ]
     },
     "execution_count": 237,
     "metadata": {},
     "output_type": "execute_result"
    }
   ],
   "source": [
    "data_all.isna().sum()"
   ]
  },
  {
   "cell_type": "code",
   "execution_count": 238,
   "metadata": {},
   "outputs": [],
   "source": [
    "data_all = data_all.dropna()"
   ]
  },
  {
   "cell_type": "code",
   "execution_count": 239,
   "metadata": {},
   "outputs": [
    {
     "data": {
      "text/plain": [
       "<matplotlib.legend.Legend at 0x1d30a395650>"
      ]
     },
     "execution_count": 239,
     "metadata": {},
     "output_type": "execute_result"
    },
    {
     "data": {
      "image/png": "[encoded data removed]",
      "text/plain": [
       "<Figure size 2000x1000 with 1 Axes>"
      ]
     },
     "metadata": {},
     "output_type": "display_data"
    }
   ],
   "source": [
    "import seaborn as sb\n",
    "import matplotlib.pyplot as plt\n",
    "\n",
    "\n",
    "plt.figure(figsize=(20,10))\n",
    "sb.countplot(x='PROM_GRAL', data=data_all, hue='GEN_ALU', palette='Set1')\n",
    "plt.legend([\"Sin información\", \"Masculino\", \"Femenino\"])\n"
   ]
  },
  {
   "cell_type": "code",
   "execution_count": null,
   "metadata": {},
   "outputs": [],
   "source": [
    "# Observar correlacion para hacer mas limpieza\n",
    "numeric_columns = data_all.select_dtypes(include=np.number).columns"
   ]
  },
  {
   "cell_type": "code",
   "execution_count": null,
   "metadata": {},
   "outputs": [],
   "source": [
    "inputs = {}\n",
    "for name, column in data_all.items:\n",
    "    if type(column[0]) == str:\n",
    "        dtype = tf.string\n",
    "    else:\n",
    "        dtype = tf.float32"
   ]
  },
  {
   "cell_type": "code",
   "execution_count": 241,
   "metadata": {},
   "outputs": [
    {
     "data": {
      "text/plain": [
       "PROM_GRAL         1.000000\n",
       "ASISTENCIA        0.365931\n",
       "FEC_NAC_ALU       0.345680\n",
       "GEN_ALU           0.117691\n",
       "MRUN              0.054276\n",
       "COD_DEPE          0.050323\n",
       "COD_DEPE2         0.041195\n",
       "RURAL_RBD         0.028171\n",
       "COD_TIP_CUR       0.023564\n",
       "DGV_RBD          -0.003223\n",
       "COD_REG_ALU      -0.007102\n",
       "COD_COM_ALU      -0.007472\n",
       "COD_REG_RBD      -0.012076\n",
       "COD_COM_RBD      -0.012190\n",
       "COD_PRO_RBD      -0.012213\n",
       "COD_DEPROV_RBD   -0.019578\n",
       "RBD              -0.032461\n",
       "COD_GRADO        -0.043880\n",
       "COD_MEN          -0.060024\n",
       "COD_JOR          -0.085738\n",
       "COD_DES_CUR      -0.096366\n",
       "COD_SEC          -0.107000\n",
       "COD_ESPE         -0.107001\n",
       "COD_RAMA         -0.107364\n",
       "COD_ENSE         -0.254239\n",
       "COD_ENSE2        -0.269109\n",
       "ï»¿AGNO                NaN\n",
       "ESTADO_ESTAB           NaN\n",
       "Name: PROM_GRAL, dtype: float64"
      ]
     },
     "execution_count": 241,
     "metadata": {},
     "output_type": "execute_result"
    }
   ],
   "source": [
    "correlacion_all = data_all[numeric_columns].corr()\n",
    "\n",
    "# Ver correlacion en base a valor a evaluar\n",
    "correlacion_prom_gral = correlacion_all[\"PROM_GRAL\"].sort_values(ascending=False)\n",
    "correlacion_prom_gral"
   ]
  },
  {
   "cell_type": "code",
   "execution_count": 300,
   "metadata": {},
   "outputs": [],
   "source": [
    "# Columnas\n",
    "#['ï»¿AGNO', 'RBD', 'DGV_RBD', 'NOM_RBD', 'COD_REG_RBD', 'NOM_REG_RBD_A', 'COD_PRO_RBD', 'COD_COM_RBD', \n",
    "#'NOM_COM_RBD', 'COD_DEPROV_RBD', 'NOM_DEPROV_RBD', 'COD_DEPE', 'COD_DEPE2', 'RURAL_RBD', 'ESTADO_ESTAB',\n",
    "#'COD_ENSE', 'COD_ENSE2', 'COD_GRADO', 'LET_CUR', 'COD_JOR',\n",
    "#'COD_TIP_CUR', 'COD_DES_CUR', 'MRUN', 'GEN_ALU', 'FEC_NAC_ALU',\n",
    "#'EDAD_ALU', 'COD_REG_ALU', 'COD_COM_ALU', 'NOM_COM_ALU', 'COD_RAMA',\n",
    "#'COD_SEC', 'COD_ESPE', 'PROM_GRAL', 'ASISTENCIA', 'SIT_FIN',\n",
    "#'SIT_FIN_R', 'COD_MEN']\n",
    "\n",
    "# Hacer data = data_all con las columnas a usar EDAD_ALU, GEN_ALU, PROM_GRAL\n",
    "data = data_all[['COD_COM_RBD', 'COD_DEPE2', 'RURAL_RBD', 'COD_ENSE2', 'COD_GRADO', 'COD_JOR', 'GEN_ALU', 'EDAD_ALU', 'PROM_GRAL', 'ASISTENCIA']]"
   ]
  },
  {
   "cell_type": "code",
   "execution_count": 301,
   "metadata": {},
   "outputs": [
    {
     "name": "stderr",
     "output_type": "stream",
     "text": [
      "C:\\Users\\Ketbome\\AppData\\Local\\Temp\\ipykernel_10868\\411012605.py:2: SettingWithCopyWarning: \n",
      "A value is trying to be set on a copy of a slice from a DataFrame.\n",
      "Try using .loc[row_indexer,col_indexer] = value instead\n",
      "\n",
      "See the caveats in the documentation: https://pandas.pydata.org/pandas-docs/stable/user_guide/indexing.html#returning-a-view-versus-a-copy\n",
      "  data['EDAD_ALU'] = pd.to_numeric(data['EDAD_ALU'], errors='coerce')\n"
     ]
    }
   ],
   "source": [
    "# Convertir la columna a números, los valores inválidos se convierten en NaN\n",
    "data['EDAD_ALU'] = pd.to_numeric(data['EDAD_ALU'], errors='coerce')\n",
    "\n",
    "# Eliminar las filas con NaN en la columna 'EDAD_ALU'\n",
    "data = data.dropna(subset=['EDAD_ALU'])\n",
    "\n",
    "# Borrar las personas que tengan mas de 20 años\n",
    "data = data[data['EDAD_ALU'] <= 20]"
   ]
  },
  {
   "cell_type": "code",
   "execution_count": 302,
   "metadata": {},
   "outputs": [
    {
     "data": {
      "text/html": [
       "<div>\n",
       "<style scoped>\n",
       "    .dataframe tbody tr th:only-of-type {\n",
       "        vertical-align: middle;\n",
       "    }\n",
       "\n",
       "    .dataframe tbody tr th {\n",
       "        vertical-align: top;\n",
       "    }\n",
       "\n",
       "    .dataframe thead th {\n",
       "        text-align: right;\n",
       "    }\n",
       "</style>\n",
       "<table border=\"1\" class=\"dataframe\">\n",
       "  <thead>\n",
       "    <tr style=\"text-align: right;\">\n",
       "      <th></th>\n",
       "      <th>COD_COM_RBD</th>\n",
       "      <th>COD_DEPE2</th>\n",
       "      <th>RURAL_RBD</th>\n",
       "      <th>COD_ENSE2</th>\n",
       "      <th>COD_GRADO</th>\n",
       "      <th>COD_JOR</th>\n",
       "      <th>GEN_ALU</th>\n",
       "      <th>EDAD_ALU</th>\n",
       "      <th>PROM_GRAL</th>\n",
       "      <th>ASISTENCIA</th>\n",
       "      <th>COD_COM_ALU</th>\n",
       "    </tr>\n",
       "  </thead>\n",
       "  <tbody>\n",
       "    <tr>\n",
       "      <th>7</th>\n",
       "      <td>15101</td>\n",
       "      <td>5</td>\n",
       "      <td>0</td>\n",
       "      <td>7</td>\n",
       "      <td>1</td>\n",
       "      <td>1</td>\n",
       "      <td>1</td>\n",
       "      <td>14.0</td>\n",
       "      <td>4.5</td>\n",
       "      <td>85</td>\n",
       "      <td>4102</td>\n",
       "    </tr>\n",
       "    <tr>\n",
       "      <th>8</th>\n",
       "      <td>15101</td>\n",
       "      <td>5</td>\n",
       "      <td>0</td>\n",
       "      <td>7</td>\n",
       "      <td>1</td>\n",
       "      <td>1</td>\n",
       "      <td>1</td>\n",
       "      <td>15.0</td>\n",
       "      <td>5.1</td>\n",
       "      <td>89</td>\n",
       "      <td>15101</td>\n",
       "    </tr>\n",
       "    <tr>\n",
       "      <th>9</th>\n",
       "      <td>15101</td>\n",
       "      <td>5</td>\n",
       "      <td>0</td>\n",
       "      <td>7</td>\n",
       "      <td>1</td>\n",
       "      <td>1</td>\n",
       "      <td>1</td>\n",
       "      <td>16.0</td>\n",
       "      <td>5.3</td>\n",
       "      <td>89</td>\n",
       "      <td>15101</td>\n",
       "    </tr>\n",
       "    <tr>\n",
       "      <th>10</th>\n",
       "      <td>15101</td>\n",
       "      <td>5</td>\n",
       "      <td>0</td>\n",
       "      <td>7</td>\n",
       "      <td>1</td>\n",
       "      <td>1</td>\n",
       "      <td>2</td>\n",
       "      <td>16.0</td>\n",
       "      <td>5.9</td>\n",
       "      <td>90</td>\n",
       "      <td>15101</td>\n",
       "    </tr>\n",
       "    <tr>\n",
       "      <th>11</th>\n",
       "      <td>15101</td>\n",
       "      <td>5</td>\n",
       "      <td>0</td>\n",
       "      <td>7</td>\n",
       "      <td>1</td>\n",
       "      <td>1</td>\n",
       "      <td>1</td>\n",
       "      <td>14.0</td>\n",
       "      <td>5.7</td>\n",
       "      <td>90</td>\n",
       "      <td>15101</td>\n",
       "    </tr>\n",
       "  </tbody>\n",
       "</table>\n",
       "</div>"
      ],
      "text/plain": [
       "    COD_COM_RBD  COD_DEPE2  RURAL_RBD  COD_ENSE2  COD_GRADO  COD_JOR  GEN_ALU  \\\n",
       "7         15101          5          0          7          1        1        1   \n",
       "8         15101          5          0          7          1        1        1   \n",
       "9         15101          5          0          7          1        1        1   \n",
       "10        15101          5          0          7          1        1        2   \n",
       "11        15101          5          0          7          1        1        1   \n",
       "\n",
       "    EDAD_ALU  PROM_GRAL  ASISTENCIA  COD_COM_ALU  \n",
       "7       14.0        4.5          85         4102  \n",
       "8       15.0        5.1          89        15101  \n",
       "9       16.0        5.3          89        15101  \n",
       "10      16.0        5.9          90        15101  \n",
       "11      14.0        5.7          90        15101  "
      ]
     },
     "execution_count": 302,
     "metadata": {},
     "output_type": "execute_result"
    }
   ],
   "source": [
    "data.head()"
   ]
  },
  {
   "cell_type": "markdown",
   "metadata": {},
   "source": []
  },
  {
   "cell_type": "code",
   "execution_count": 303,
   "metadata": {},
   "outputs": [
    {
     "data": {
      "text/plain": [
       "<Axes: >"
      ]
     },
     "execution_count": 303,
     "metadata": {},
     "output_type": "execute_result"
    },
    {
     "data": {
      "image/png": "[encoded data removed]",
      "text/plain": [
       "<Figure size 2000x1000 with 2 Axes>"
      ]
     },
     "metadata": {},
     "output_type": "display_data"
    }
   ],
   "source": [
    "#Observar correlacion para hacer mas limpieza\n",
    "plt.figure(figsize=(20,10))\n",
    "sb.heatmap(data.corr(), annot=True, cmap='YlGnBu')\n"
   ]
  },
  {
   "cell_type": "code",
   "execution_count": 304,
   "metadata": {},
   "outputs": [
    {
     "data": {
      "text/plain": [
       "PROM_GRAL      1.000000\n",
       "ASISTENCIA     0.345738\n",
       "GEN_ALU        0.123678\n",
       "COD_DEPE2      0.045512\n",
       "RURAL_RBD      0.028110\n",
       "COD_COM_ALU   -0.011219\n",
       "COD_COM_RBD   -0.017178\n",
       "COD_JOR       -0.058987\n",
       "COD_GRADO     -0.080422\n",
       "COD_ENSE2     -0.245983\n",
       "EDAD_ALU      -0.337581\n",
       "Name: PROM_GRAL, dtype: float64"
      ]
     },
     "execution_count": 304,
     "metadata": {},
     "output_type": "execute_result"
    }
   ],
   "source": [
    "# Ver correlacion en base a valor a evaluar\n",
    "data.corr()[\"PROM_GRAL\"].sort_values(ascending=False)"
   ]
  },
  {
   "cell_type": "code",
   "execution_count": 305,
   "metadata": {},
   "outputs": [
    {
     "data": {
      "text/html": [
       "<div>\n",
       "<style scoped>\n",
       "    .dataframe tbody tr th:only-of-type {\n",
       "        vertical-align: middle;\n",
       "    }\n",
       "\n",
       "    .dataframe tbody tr th {\n",
       "        vertical-align: top;\n",
       "    }\n",
       "\n",
       "    .dataframe thead th {\n",
       "        text-align: right;\n",
       "    }\n",
       "</style>\n",
       "<table border=\"1\" class=\"dataframe\">\n",
       "  <thead>\n",
       "    <tr style=\"text-align: right;\">\n",
       "      <th></th>\n",
       "      <th>Filas</th>\n",
       "      <th>Columnas</th>\n",
       "    </tr>\n",
       "  </thead>\n",
       "  <tbody>\n",
       "    <tr>\n",
       "      <th>0</th>\n",
       "      <td>3021404</td>\n",
       "      <td>11</td>\n",
       "    </tr>\n",
       "  </tbody>\n",
       "</table>\n",
       "</div>"
      ],
      "text/plain": [
       "     Filas  Columnas\n",
       "0  3021404        11"
      ]
     },
     "execution_count": 305,
     "metadata": {},
     "output_type": "execute_result"
    }
   ],
   "source": [
    "# Saber cuantas filas hay y columnas\n",
    "pd.DataFrame([data.shape], columns=['Filas', 'Columnas'])"
   ]
  },
  {
   "cell_type": "code",
   "execution_count": 306,
   "metadata": {},
   "outputs": [],
   "source": [
    "# División de datos\n",
    "X = data.drop(columns=['PROM_GRAL'])\n",
    "y = data['PROM_GRAL']\n",
    "X_train, X_test, y_train, y_test = train_test_split(\n",
    "    X, y, test_size=0.2, random_state=42)"
   ]
  },
  {
   "cell_type": "code",
   "execution_count": 307,
   "metadata": {},
   "outputs": [],
   "source": [
    "from sklearn.preprocessing import LabelEncoder, StandardScaler\n",
    "from tensorflow.keras import layers\n",
    "\n",
    "# Escalado de características\n",
    "scaler = StandardScaler()\n",
    "X_train_scaled = scaler.fit_transform(X_train) # Ajustar y transformar\n",
    "X_test_scaled = scaler.transform(X_test) # Solo transformar"
   ]
  },
  {
   "cell_type": "code",
   "execution_count": 308,
   "metadata": {},
   "outputs": [],
   "source": [
    "from tensorflow.keras.utils import to_categorical\n",
    "\n",
    "# Convertir todas las etiquetas a una representación categórica\n",
    "y_train_categorical = to_categorical(y_train*10 - 10)"
   ]
  },
  {
   "cell_type": "code",
   "execution_count": 309,
   "metadata": {},
   "outputs": [],
   "source": [
    "modelo = keras.Sequential([\n",
    "    # Capa de entrada\n",
    "    layers.InputLayer(input_shape=(X_train_scaled.shape[1],)),\n",
    "    # Capa oculta\n",
    "    keras.layers.Dense(32),\n",
    "    keras.layers.LeakyReLU(),\n",
    "    tf.keras.layers.Dropout(0.1),\n",
    "    keras.layers.Dense(64),\n",
    "    keras.layers.LeakyReLU(),\n",
    "    tf.keras.layers.Dropout(0.15),\n",
    "    keras.layers.Dense(128),\n",
    "    keras.layers.LeakyReLU(),\n",
    "    # Capa de salida\n",
    "    keras.layers.Dense(61, activation='softmax')\n",
    "])"
   ]
  },
  {
   "cell_type": "code",
   "execution_count": 310,
   "metadata": {},
   "outputs": [],
   "source": [
    "modelo.compile(\n",
    "    optimizer='adam',\n",
    "    loss='categorical_crossentropy', # todos los tipos de pérdida: https://keras.io/api/losses/\n",
    "    metrics=['mae', 'mse'] # todas las métricas: https://keras.io/api/metrics/],\n",
    ")"
   ]
  },
  {
   "cell_type": "code",
   "execution_count": 311,
   "metadata": {},
   "outputs": [
    {
     "data": {
      "text/html": [
       "<div>\n",
       "<style scoped>\n",
       "    .dataframe tbody tr th:only-of-type {\n",
       "        vertical-align: middle;\n",
       "    }\n",
       "\n",
       "    .dataframe tbody tr th {\n",
       "        vertical-align: top;\n",
       "    }\n",
       "\n",
       "    .dataframe thead th {\n",
       "        text-align: right;\n",
       "    }\n",
       "</style>\n",
       "<table border=\"1\" class=\"dataframe\">\n",
       "  <thead>\n",
       "    <tr style=\"text-align: right;\">\n",
       "      <th></th>\n",
       "      <th>Filas</th>\n",
       "      <th>Columnas</th>\n",
       "    </tr>\n",
       "  </thead>\n",
       "  <tbody>\n",
       "    <tr>\n",
       "      <th>0</th>\n",
       "      <td>2417123</td>\n",
       "      <td>10</td>\n",
       "    </tr>\n",
       "  </tbody>\n",
       "</table>\n",
       "</div>"
      ],
      "text/plain": [
       "     Filas  Columnas\n",
       "0  2417123        10"
      ]
     },
     "execution_count": 311,
     "metadata": {},
     "output_type": "execute_result"
    }
   ],
   "source": [
    "pd.DataFrame([X_train_scaled.shape], columns=['Filas', 'Columnas'])"
   ]
  },
  {
   "cell_type": "code",
   "execution_count": 312,
   "metadata": {},
   "outputs": [
    {
     "name": "stdout",
     "output_type": "stream",
     "text": [
      "Epoch 1/20\n",
      "945/945 [==============================] - 10s 9ms/step - loss: 3.0203 - mae: 0.0309 - mse: 0.0154 - val_loss: 2.9642 - val_mae: 0.0308 - val_mse: 0.0154\n",
      "Epoch 2/20\n",
      "945/945 [==============================] - 8s 9ms/step - loss: 2.9708 - mae: 0.0308 - mse: 0.0154 - val_loss: 2.9537 - val_mae: 0.0308 - val_mse: 0.0154\n",
      "Epoch 3/20\n",
      "945/945 [==============================] - 8s 8ms/step - loss: 2.9630 - mae: 0.0308 - mse: 0.0154 - val_loss: 2.9477 - val_mae: 0.0307 - val_mse: 0.0154\n",
      "Epoch 4/20\n",
      "942/945 [============================>.] - ETA: 0s - loss: 2.9578 - mae: 0.0308 - mse: 0.0154"
     ]
    },
    {
     "ename": "KeyboardInterrupt",
     "evalue": "",
     "output_type": "error",
     "traceback": [
      "\u001b[1;31m---------------------------------------------------------------------------\u001b[0m",
      "\u001b[1;31mKeyboardInterrupt\u001b[0m                         Traceback (most recent call last)",
      "\u001b[1;32mc:\\Users\\Ketbome\\Desktop\\Projects\\Data science\\Proyecto\\Colab\\RedNeuronal.ipynb Celda 23\u001b[0m line \u001b[0;36m2\n\u001b[0;32m      <a href='vscode-notebook-cell:/c%3A/Users/Ketbome/Desktop/Projects/Data%20science/Proyecto/Colab/RedNeuronal.ipynb#X35sZmlsZQ%3D%3D?line=0'>1</a>\u001b[0m \u001b[39m# Entrenamiento\u001b[39;00m\n\u001b[1;32m----> <a href='vscode-notebook-cell:/c%3A/Users/Ketbome/Desktop/Projects/Data%20science/Proyecto/Colab/RedNeuronal.ipynb#X35sZmlsZQ%3D%3D?line=1'>2</a>\u001b[0m modelo\u001b[39m.\u001b[39;49mfit(\n\u001b[0;32m      <a href='vscode-notebook-cell:/c%3A/Users/Ketbome/Desktop/Projects/Data%20science/Proyecto/Colab/RedNeuronal.ipynb#X35sZmlsZQ%3D%3D?line=2'>3</a>\u001b[0m     X_train_scaled, y_train_categorical,\n\u001b[0;32m      <a href='vscode-notebook-cell:/c%3A/Users/Ketbome/Desktop/Projects/Data%20science/Proyecto/Colab/RedNeuronal.ipynb#X35sZmlsZQ%3D%3D?line=3'>4</a>\u001b[0m     validation_split\u001b[39m=\u001b[39;49m\u001b[39m0.2\u001b[39;49m,\n\u001b[0;32m      <a href='vscode-notebook-cell:/c%3A/Users/Ketbome/Desktop/Projects/Data%20science/Proyecto/Colab/RedNeuronal.ipynb#X35sZmlsZQ%3D%3D?line=4'>5</a>\u001b[0m     epochs\u001b[39m=\u001b[39;49m\u001b[39m20\u001b[39;49m,\n\u001b[0;32m      <a href='vscode-notebook-cell:/c%3A/Users/Ketbome/Desktop/Projects/Data%20science/Proyecto/Colab/RedNeuronal.ipynb#X35sZmlsZQ%3D%3D?line=5'>6</a>\u001b[0m     batch_size\u001b[39m=\u001b[39;49m\u001b[39m2048\u001b[39;49m,\n\u001b[0;32m      <a href='vscode-notebook-cell:/c%3A/Users/Ketbome/Desktop/Projects/Data%20science/Proyecto/Colab/RedNeuronal.ipynb#X35sZmlsZQ%3D%3D?line=6'>7</a>\u001b[0m     verbose\u001b[39m=\u001b[39;49m\u001b[39m1\u001b[39;49m\n\u001b[0;32m      <a href='vscode-notebook-cell:/c%3A/Users/Ketbome/Desktop/Projects/Data%20science/Proyecto/Colab/RedNeuronal.ipynb#X35sZmlsZQ%3D%3D?line=7'>8</a>\u001b[0m )\n",
      "File \u001b[1;32mc:\\Python311\\Lib\\site-packages\\keras\\src\\utils\\traceback_utils.py:65\u001b[0m, in \u001b[0;36mfilter_traceback.<locals>.error_handler\u001b[1;34m(*args, **kwargs)\u001b[0m\n\u001b[0;32m     63\u001b[0m filtered_tb \u001b[39m=\u001b[39m \u001b[39mNone\u001b[39;00m\n\u001b[0;32m     64\u001b[0m \u001b[39mtry\u001b[39;00m:\n\u001b[1;32m---> 65\u001b[0m     \u001b[39mreturn\u001b[39;00m fn(\u001b[39m*\u001b[39;49margs, \u001b[39m*\u001b[39;49m\u001b[39m*\u001b[39;49mkwargs)\n\u001b[0;32m     66\u001b[0m \u001b[39mexcept\u001b[39;00m \u001b[39mException\u001b[39;00m \u001b[39mas\u001b[39;00m e:\n\u001b[0;32m     67\u001b[0m     filtered_tb \u001b[39m=\u001b[39m _process_traceback_frames(e\u001b[39m.\u001b[39m__traceback__)\n",
      "File \u001b[1;32mc:\\Python311\\Lib\\site-packages\\keras\\src\\engine\\training.py:1856\u001b[0m, in \u001b[0;36mModel.fit\u001b[1;34m(self, x, y, batch_size, epochs, verbose, callbacks, validation_split, validation_data, shuffle, class_weight, sample_weight, initial_epoch, steps_per_epoch, validation_steps, validation_batch_size, validation_freq, max_queue_size, workers, use_multiprocessing)\u001b[0m\n\u001b[0;32m   1840\u001b[0m \u001b[39mif\u001b[39;00m \u001b[39mgetattr\u001b[39m(\u001b[39mself\u001b[39m, \u001b[39m\"\u001b[39m\u001b[39m_eval_data_handler\u001b[39m\u001b[39m\"\u001b[39m, \u001b[39mNone\u001b[39;00m) \u001b[39mis\u001b[39;00m \u001b[39mNone\u001b[39;00m:\n\u001b[0;32m   1841\u001b[0m     \u001b[39mself\u001b[39m\u001b[39m.\u001b[39m_eval_data_handler \u001b[39m=\u001b[39m data_adapter\u001b[39m.\u001b[39mget_data_handler(\n\u001b[0;32m   1842\u001b[0m         x\u001b[39m=\u001b[39mval_x,\n\u001b[0;32m   1843\u001b[0m         y\u001b[39m=\u001b[39mval_y,\n\u001b[1;32m   (...)\u001b[0m\n\u001b[0;32m   1854\u001b[0m         pss_evaluation_shards\u001b[39m=\u001b[39m\u001b[39mself\u001b[39m\u001b[39m.\u001b[39m_pss_evaluation_shards,\n\u001b[0;32m   1855\u001b[0m     )\n\u001b[1;32m-> 1856\u001b[0m val_logs \u001b[39m=\u001b[39m \u001b[39mself\u001b[39;49m\u001b[39m.\u001b[39;49mevaluate(\n\u001b[0;32m   1857\u001b[0m     x\u001b[39m=\u001b[39;49mval_x,\n\u001b[0;32m   1858\u001b[0m     y\u001b[39m=\u001b[39;49mval_y,\n\u001b[0;32m   1859\u001b[0m     sample_weight\u001b[39m=\u001b[39;49mval_sample_weight,\n\u001b[0;32m   1860\u001b[0m     batch_size\u001b[39m=\u001b[39;49mvalidation_batch_size \u001b[39mor\u001b[39;49;00m batch_size,\n\u001b[0;32m   1861\u001b[0m     steps\u001b[39m=\u001b[39;49mvalidation_steps,\n\u001b[0;32m   1862\u001b[0m     callbacks\u001b[39m=\u001b[39;49mcallbacks,\n\u001b[0;32m   1863\u001b[0m     max_queue_size\u001b[39m=\u001b[39;49mmax_queue_size,\n\u001b[0;32m   1864\u001b[0m     workers\u001b[39m=\u001b[39;49mworkers,\n\u001b[0;32m   1865\u001b[0m     use_multiprocessing\u001b[39m=\u001b[39;49muse_multiprocessing,\n\u001b[0;32m   1866\u001b[0m     return_dict\u001b[39m=\u001b[39;49m\u001b[39mTrue\u001b[39;49;00m,\n\u001b[0;32m   1867\u001b[0m     _use_cached_eval_dataset\u001b[39m=\u001b[39;49m\u001b[39mTrue\u001b[39;49;00m,\n\u001b[0;32m   1868\u001b[0m )\n\u001b[0;32m   1869\u001b[0m val_logs \u001b[39m=\u001b[39m {\n\u001b[0;32m   1870\u001b[0m     \u001b[39m\"\u001b[39m\u001b[39mval_\u001b[39m\u001b[39m\"\u001b[39m \u001b[39m+\u001b[39m name: val \u001b[39mfor\u001b[39;00m name, val \u001b[39min\u001b[39;00m val_logs\u001b[39m.\u001b[39mitems()\n\u001b[0;32m   1871\u001b[0m }\n\u001b[0;32m   1872\u001b[0m epoch_logs\u001b[39m.\u001b[39mupdate(val_logs)\n",
      "File \u001b[1;32mc:\\Python311\\Lib\\site-packages\\keras\\src\\utils\\traceback_utils.py:65\u001b[0m, in \u001b[0;36mfilter_traceback.<locals>.error_handler\u001b[1;34m(*args, **kwargs)\u001b[0m\n\u001b[0;32m     63\u001b[0m filtered_tb \u001b[39m=\u001b[39m \u001b[39mNone\u001b[39;00m\n\u001b[0;32m     64\u001b[0m \u001b[39mtry\u001b[39;00m:\n\u001b[1;32m---> 65\u001b[0m     \u001b[39mreturn\u001b[39;00m fn(\u001b[39m*\u001b[39;49margs, \u001b[39m*\u001b[39;49m\u001b[39m*\u001b[39;49mkwargs)\n\u001b[0;32m     66\u001b[0m \u001b[39mexcept\u001b[39;00m \u001b[39mException\u001b[39;00m \u001b[39mas\u001b[39;00m e:\n\u001b[0;32m     67\u001b[0m     filtered_tb \u001b[39m=\u001b[39m _process_traceback_frames(e\u001b[39m.\u001b[39m__traceback__)\n",
      "File \u001b[1;32mc:\\Python311\\Lib\\site-packages\\keras\\src\\engine\\training.py:2296\u001b[0m, in \u001b[0;36mModel.evaluate\u001b[1;34m(self, x, y, batch_size, verbose, sample_weight, steps, callbacks, max_queue_size, workers, use_multiprocessing, return_dict, **kwargs)\u001b[0m\n\u001b[0;32m   2292\u001b[0m             \u001b[39mwith\u001b[39;00m tf\u001b[39m.\u001b[39mprofiler\u001b[39m.\u001b[39mexperimental\u001b[39m.\u001b[39mTrace(\n\u001b[0;32m   2293\u001b[0m                 \u001b[39m\"\u001b[39m\u001b[39mtest\u001b[39m\u001b[39m\"\u001b[39m, step_num\u001b[39m=\u001b[39mstep, _r\u001b[39m=\u001b[39m\u001b[39m1\u001b[39m\n\u001b[0;32m   2294\u001b[0m             ):\n\u001b[0;32m   2295\u001b[0m                 callbacks\u001b[39m.\u001b[39mon_test_batch_begin(step)\n\u001b[1;32m-> 2296\u001b[0m                 logs \u001b[39m=\u001b[39m test_function_runner\u001b[39m.\u001b[39;49mrun_step(\n\u001b[0;32m   2297\u001b[0m                     dataset_or_iterator,\n\u001b[0;32m   2298\u001b[0m                     data_handler,\n\u001b[0;32m   2299\u001b[0m                     step,\n\u001b[0;32m   2300\u001b[0m                     \u001b[39mself\u001b[39;49m\u001b[39m.\u001b[39;49m_pss_evaluation_shards,\n\u001b[0;32m   2301\u001b[0m                 )\n\u001b[0;32m   2303\u001b[0m logs \u001b[39m=\u001b[39m tf_utils\u001b[39m.\u001b[39msync_to_numpy_or_python_type(logs)\n\u001b[0;32m   2304\u001b[0m \u001b[39m# Override with model metrics instead of last step logs\u001b[39;00m\n",
      "File \u001b[1;32mc:\\Python311\\Lib\\site-packages\\keras\\src\\engine\\training.py:4108\u001b[0m, in \u001b[0;36m_TestFunction.run_step\u001b[1;34m(self, dataset_or_iterator, data_handler, step, unused_shards)\u001b[0m\n\u001b[0;32m   4107\u001b[0m \u001b[39mdef\u001b[39;00m \u001b[39mrun_step\u001b[39m(\u001b[39mself\u001b[39m, dataset_or_iterator, data_handler, step, unused_shards):\n\u001b[1;32m-> 4108\u001b[0m     tmp_logs \u001b[39m=\u001b[39m \u001b[39mself\u001b[39;49m\u001b[39m.\u001b[39;49m_function(dataset_or_iterator)\n\u001b[0;32m   4109\u001b[0m     \u001b[39mif\u001b[39;00m data_handler\u001b[39m.\u001b[39mshould_sync:\n\u001b[0;32m   4110\u001b[0m         context\u001b[39m.\u001b[39masync_wait()\n",
      "File \u001b[1;32mc:\\Python311\\Lib\\site-packages\\tensorflow\\python\\util\\traceback_utils.py:150\u001b[0m, in \u001b[0;36mfilter_traceback.<locals>.error_handler\u001b[1;34m(*args, **kwargs)\u001b[0m\n\u001b[0;32m    148\u001b[0m filtered_tb \u001b[39m=\u001b[39m \u001b[39mNone\u001b[39;00m\n\u001b[0;32m    149\u001b[0m \u001b[39mtry\u001b[39;00m:\n\u001b[1;32m--> 150\u001b[0m   \u001b[39mreturn\u001b[39;00m fn(\u001b[39m*\u001b[39;49margs, \u001b[39m*\u001b[39;49m\u001b[39m*\u001b[39;49mkwargs)\n\u001b[0;32m    151\u001b[0m \u001b[39mexcept\u001b[39;00m \u001b[39mException\u001b[39;00m \u001b[39mas\u001b[39;00m e:\n\u001b[0;32m    152\u001b[0m   filtered_tb \u001b[39m=\u001b[39m _process_traceback_frames(e\u001b[39m.\u001b[39m__traceback__)\n",
      "File \u001b[1;32mc:\\Python311\\Lib\\site-packages\\tensorflow\\python\\eager\\polymorphic_function\\polymorphic_function.py:832\u001b[0m, in \u001b[0;36mFunction.__call__\u001b[1;34m(self, *args, **kwds)\u001b[0m\n\u001b[0;32m    829\u001b[0m compiler \u001b[39m=\u001b[39m \u001b[39m\"\u001b[39m\u001b[39mxla\u001b[39m\u001b[39m\"\u001b[39m \u001b[39mif\u001b[39;00m \u001b[39mself\u001b[39m\u001b[39m.\u001b[39m_jit_compile \u001b[39melse\u001b[39;00m \u001b[39m\"\u001b[39m\u001b[39mnonXla\u001b[39m\u001b[39m\"\u001b[39m\n\u001b[0;32m    831\u001b[0m \u001b[39mwith\u001b[39;00m OptionalXlaContext(\u001b[39mself\u001b[39m\u001b[39m.\u001b[39m_jit_compile):\n\u001b[1;32m--> 832\u001b[0m   result \u001b[39m=\u001b[39m \u001b[39mself\u001b[39;49m\u001b[39m.\u001b[39;49m_call(\u001b[39m*\u001b[39;49margs, \u001b[39m*\u001b[39;49m\u001b[39m*\u001b[39;49mkwds)\n\u001b[0;32m    834\u001b[0m new_tracing_count \u001b[39m=\u001b[39m \u001b[39mself\u001b[39m\u001b[39m.\u001b[39mexperimental_get_tracing_count()\n\u001b[0;32m    835\u001b[0m without_tracing \u001b[39m=\u001b[39m (tracing_count \u001b[39m==\u001b[39m new_tracing_count)\n",
      "File \u001b[1;32mc:\\Python311\\Lib\\site-packages\\tensorflow\\python\\eager\\polymorphic_function\\polymorphic_function.py:877\u001b[0m, in \u001b[0;36mFunction._call\u001b[1;34m(self, *args, **kwds)\u001b[0m\n\u001b[0;32m    874\u001b[0m \u001b[39mself\u001b[39m\u001b[39m.\u001b[39m_lock\u001b[39m.\u001b[39mrelease()\n\u001b[0;32m    875\u001b[0m \u001b[39m# In this case we have not created variables on the first call. So we can\u001b[39;00m\n\u001b[0;32m    876\u001b[0m \u001b[39m# run the first trace but we should fail if variables are created.\u001b[39;00m\n\u001b[1;32m--> 877\u001b[0m results \u001b[39m=\u001b[39m tracing_compilation\u001b[39m.\u001b[39;49mcall_function(\n\u001b[0;32m    878\u001b[0m     args, kwds, \u001b[39mself\u001b[39;49m\u001b[39m.\u001b[39;49m_variable_creation_config\n\u001b[0;32m    879\u001b[0m )\n\u001b[0;32m    880\u001b[0m \u001b[39mif\u001b[39;00m \u001b[39mself\u001b[39m\u001b[39m.\u001b[39m_created_variables:\n\u001b[0;32m    881\u001b[0m   \u001b[39mraise\u001b[39;00m \u001b[39mValueError\u001b[39;00m(\u001b[39m\"\u001b[39m\u001b[39mCreating variables on a non-first call to a function\u001b[39m\u001b[39m\"\u001b[39m\n\u001b[0;32m    882\u001b[0m                    \u001b[39m\"\u001b[39m\u001b[39m decorated with tf.function.\u001b[39m\u001b[39m\"\u001b[39m)\n",
      "File \u001b[1;32mc:\\Python311\\Lib\\site-packages\\tensorflow\\python\\eager\\polymorphic_function\\tracing_compilation.py:139\u001b[0m, in \u001b[0;36mcall_function\u001b[1;34m(args, kwargs, tracing_options)\u001b[0m\n\u001b[0;32m    137\u001b[0m bound_args \u001b[39m=\u001b[39m function\u001b[39m.\u001b[39mfunction_type\u001b[39m.\u001b[39mbind(\u001b[39m*\u001b[39margs, \u001b[39m*\u001b[39m\u001b[39m*\u001b[39mkwargs)\n\u001b[0;32m    138\u001b[0m flat_inputs \u001b[39m=\u001b[39m function\u001b[39m.\u001b[39mfunction_type\u001b[39m.\u001b[39munpack_inputs(bound_args)\n\u001b[1;32m--> 139\u001b[0m \u001b[39mreturn\u001b[39;00m function\u001b[39m.\u001b[39;49m_call_flat(  \u001b[39m# pylint: disable=protected-access\u001b[39;49;00m\n\u001b[0;32m    140\u001b[0m     flat_inputs, captured_inputs\u001b[39m=\u001b[39;49mfunction\u001b[39m.\u001b[39;49mcaptured_inputs\n\u001b[0;32m    141\u001b[0m )\n",
      "File \u001b[1;32mc:\\Python311\\Lib\\site-packages\\tensorflow\\python\\eager\\polymorphic_function\\concrete_function.py:1323\u001b[0m, in \u001b[0;36mConcreteFunction._call_flat\u001b[1;34m(self, tensor_inputs, captured_inputs)\u001b[0m\n\u001b[0;32m   1319\u001b[0m possible_gradient_type \u001b[39m=\u001b[39m gradients_util\u001b[39m.\u001b[39mPossibleTapeGradientTypes(args)\n\u001b[0;32m   1320\u001b[0m \u001b[39mif\u001b[39;00m (possible_gradient_type \u001b[39m==\u001b[39m gradients_util\u001b[39m.\u001b[39mPOSSIBLE_GRADIENT_TYPES_NONE\n\u001b[0;32m   1321\u001b[0m     \u001b[39mand\u001b[39;00m executing_eagerly):\n\u001b[0;32m   1322\u001b[0m   \u001b[39m# No tape is watching; skip to running the function.\u001b[39;00m\n\u001b[1;32m-> 1323\u001b[0m   \u001b[39mreturn\u001b[39;00m \u001b[39mself\u001b[39;49m\u001b[39m.\u001b[39;49m_inference_function\u001b[39m.\u001b[39;49mcall_preflattened(args)\n\u001b[0;32m   1324\u001b[0m forward_backward \u001b[39m=\u001b[39m \u001b[39mself\u001b[39m\u001b[39m.\u001b[39m_select_forward_and_backward_functions(\n\u001b[0;32m   1325\u001b[0m     args,\n\u001b[0;32m   1326\u001b[0m     possible_gradient_type,\n\u001b[0;32m   1327\u001b[0m     executing_eagerly)\n\u001b[0;32m   1328\u001b[0m forward_function, args_with_tangents \u001b[39m=\u001b[39m forward_backward\u001b[39m.\u001b[39mforward()\n",
      "File \u001b[1;32mc:\\Python311\\Lib\\site-packages\\tensorflow\\python\\eager\\polymorphic_function\\atomic_function.py:216\u001b[0m, in \u001b[0;36mAtomicFunction.call_preflattened\u001b[1;34m(self, args)\u001b[0m\n\u001b[0;32m    214\u001b[0m \u001b[39mdef\u001b[39;00m \u001b[39mcall_preflattened\u001b[39m(\u001b[39mself\u001b[39m, args: Sequence[core\u001b[39m.\u001b[39mTensor]) \u001b[39m-\u001b[39m\u001b[39m>\u001b[39m Any:\n\u001b[0;32m    215\u001b[0m \u001b[39m  \u001b[39m\u001b[39m\"\"\"Calls with flattened tensor inputs and returns the structured output.\"\"\"\u001b[39;00m\n\u001b[1;32m--> 216\u001b[0m   flat_outputs \u001b[39m=\u001b[39m \u001b[39mself\u001b[39;49m\u001b[39m.\u001b[39;49mcall_flat(\u001b[39m*\u001b[39;49margs)\n\u001b[0;32m    217\u001b[0m   \u001b[39mreturn\u001b[39;00m \u001b[39mself\u001b[39m\u001b[39m.\u001b[39mfunction_type\u001b[39m.\u001b[39mpack_output(flat_outputs)\n",
      "File \u001b[1;32mc:\\Python311\\Lib\\site-packages\\tensorflow\\python\\eager\\polymorphic_function\\atomic_function.py:251\u001b[0m, in \u001b[0;36mAtomicFunction.call_flat\u001b[1;34m(self, *args)\u001b[0m\n\u001b[0;32m    249\u001b[0m \u001b[39mwith\u001b[39;00m record\u001b[39m.\u001b[39mstop_recording():\n\u001b[0;32m    250\u001b[0m   \u001b[39mif\u001b[39;00m \u001b[39mself\u001b[39m\u001b[39m.\u001b[39m_bound_context\u001b[39m.\u001b[39mexecuting_eagerly():\n\u001b[1;32m--> 251\u001b[0m     outputs \u001b[39m=\u001b[39m \u001b[39mself\u001b[39;49m\u001b[39m.\u001b[39;49m_bound_context\u001b[39m.\u001b[39;49mcall_function(\n\u001b[0;32m    252\u001b[0m         \u001b[39mself\u001b[39;49m\u001b[39m.\u001b[39;49mname,\n\u001b[0;32m    253\u001b[0m         \u001b[39mlist\u001b[39;49m(args),\n\u001b[0;32m    254\u001b[0m         \u001b[39mlen\u001b[39;49m(\u001b[39mself\u001b[39;49m\u001b[39m.\u001b[39;49mfunction_type\u001b[39m.\u001b[39;49mflat_outputs),\n\u001b[0;32m    255\u001b[0m     )\n\u001b[0;32m    256\u001b[0m   \u001b[39melse\u001b[39;00m:\n\u001b[0;32m    257\u001b[0m     outputs \u001b[39m=\u001b[39m make_call_op_in_graph(\n\u001b[0;32m    258\u001b[0m         \u001b[39mself\u001b[39m,\n\u001b[0;32m    259\u001b[0m         \u001b[39mlist\u001b[39m(args),\n\u001b[0;32m    260\u001b[0m         \u001b[39mself\u001b[39m\u001b[39m.\u001b[39m_bound_context\u001b[39m.\u001b[39mfunction_call_options\u001b[39m.\u001b[39mas_attrs(),\n\u001b[0;32m    261\u001b[0m     )\n",
      "File \u001b[1;32mc:\\Python311\\Lib\\site-packages\\tensorflow\\python\\eager\\context.py:1486\u001b[0m, in \u001b[0;36mContext.call_function\u001b[1;34m(self, name, tensor_inputs, num_outputs)\u001b[0m\n\u001b[0;32m   1484\u001b[0m cancellation_context \u001b[39m=\u001b[39m cancellation\u001b[39m.\u001b[39mcontext()\n\u001b[0;32m   1485\u001b[0m \u001b[39mif\u001b[39;00m cancellation_context \u001b[39mis\u001b[39;00m \u001b[39mNone\u001b[39;00m:\n\u001b[1;32m-> 1486\u001b[0m   outputs \u001b[39m=\u001b[39m execute\u001b[39m.\u001b[39;49mexecute(\n\u001b[0;32m   1487\u001b[0m       name\u001b[39m.\u001b[39;49mdecode(\u001b[39m\"\u001b[39;49m\u001b[39mutf-8\u001b[39;49m\u001b[39m\"\u001b[39;49m),\n\u001b[0;32m   1488\u001b[0m       num_outputs\u001b[39m=\u001b[39;49mnum_outputs,\n\u001b[0;32m   1489\u001b[0m       inputs\u001b[39m=\u001b[39;49mtensor_inputs,\n\u001b[0;32m   1490\u001b[0m       attrs\u001b[39m=\u001b[39;49mattrs,\n\u001b[0;32m   1491\u001b[0m       ctx\u001b[39m=\u001b[39;49m\u001b[39mself\u001b[39;49m,\n\u001b[0;32m   1492\u001b[0m   )\n\u001b[0;32m   1493\u001b[0m \u001b[39melse\u001b[39;00m:\n\u001b[0;32m   1494\u001b[0m   outputs \u001b[39m=\u001b[39m execute\u001b[39m.\u001b[39mexecute_with_cancellation(\n\u001b[0;32m   1495\u001b[0m       name\u001b[39m.\u001b[39mdecode(\u001b[39m\"\u001b[39m\u001b[39mutf-8\u001b[39m\u001b[39m\"\u001b[39m),\n\u001b[0;32m   1496\u001b[0m       num_outputs\u001b[39m=\u001b[39mnum_outputs,\n\u001b[1;32m   (...)\u001b[0m\n\u001b[0;32m   1500\u001b[0m       cancellation_manager\u001b[39m=\u001b[39mcancellation_context,\n\u001b[0;32m   1501\u001b[0m   )\n",
      "File \u001b[1;32mc:\\Python311\\Lib\\site-packages\\tensorflow\\python\\eager\\execute.py:53\u001b[0m, in \u001b[0;36mquick_execute\u001b[1;34m(op_name, num_outputs, inputs, attrs, ctx, name)\u001b[0m\n\u001b[0;32m     51\u001b[0m \u001b[39mtry\u001b[39;00m:\n\u001b[0;32m     52\u001b[0m   ctx\u001b[39m.\u001b[39mensure_initialized()\n\u001b[1;32m---> 53\u001b[0m   tensors \u001b[39m=\u001b[39m pywrap_tfe\u001b[39m.\u001b[39;49mTFE_Py_Execute(ctx\u001b[39m.\u001b[39;49m_handle, device_name, op_name,\n\u001b[0;32m     54\u001b[0m                                       inputs, attrs, num_outputs)\n\u001b[0;32m     55\u001b[0m \u001b[39mexcept\u001b[39;00m core\u001b[39m.\u001b[39m_NotOkStatusException \u001b[39mas\u001b[39;00m e:\n\u001b[0;32m     56\u001b[0m   \u001b[39mif\u001b[39;00m name \u001b[39mis\u001b[39;00m \u001b[39mnot\u001b[39;00m \u001b[39mNone\u001b[39;00m:\n",
      "\u001b[1;31mKeyboardInterrupt\u001b[0m: "
     ]
    }
   ],
   "source": [
    "# Entrenamiento\n",
    "modelo.fit(\n",
    "    X_train_scaled, y_train_categorical,\n",
    "    validation_split=0.2,\n",
    "    epochs=20,\n",
    "    batch_size=2048,\n",
    "    verbose=1\n",
    ")"
   ]
  },
  {
   "cell_type": "code",
   "execution_count": null,
   "metadata": {},
   "outputs": [
    {
     "name": "stderr",
     "output_type": "stream",
     "text": [
      "c:\\Python311\\Lib\\site-packages\\keras\\src\\engine\\training.py:3103: UserWarning: You are saving your model as an HDF5 file via `model.save()`. This file format is considered legacy. We recommend using instead the native Keras format, e.g. `model.save('my_model.keras')`.\n",
      "  saving_api.save_model(\n"
     ]
    },
    {
     "name": "stdout",
     "output_type": "stream",
     "text": [
      "INFO:tensorflow:Assets written to: ./models/nn_model\\assets\n"
     ]
    },
    {
     "name": "stderr",
     "output_type": "stream",
     "text": [
      "INFO:tensorflow:Assets written to: ./models/nn_model\\assets\n"
     ]
    }
   ],
   "source": [
    "# Guardar el modelo\n",
    "modelo.save(\"./models/RedNeuronal.h5\")\n",
    "# Guardar el modelo\n",
    "modelo.save(\"./models/nn_model\")"
   ]
  },
  {
   "cell_type": "code",
   "execution_count": null,
   "metadata": {},
   "outputs": [
    {
     "data": {
      "text/html": [
       "<div>\n",
       "<style scoped>\n",
       "    .dataframe tbody tr th:only-of-type {\n",
       "        vertical-align: middle;\n",
       "    }\n",
       "\n",
       "    .dataframe tbody tr th {\n",
       "        vertical-align: top;\n",
       "    }\n",
       "\n",
       "    .dataframe thead th {\n",
       "        text-align: right;\n",
       "    }\n",
       "</style>\n",
       "<table border=\"1\" class=\"dataframe\">\n",
       "  <thead>\n",
       "    <tr style=\"text-align: right;\">\n",
       "      <th></th>\n",
       "      <th>Filas</th>\n",
       "      <th>Columnas</th>\n",
       "    </tr>\n",
       "  </thead>\n",
       "  <tbody>\n",
       "    <tr>\n",
       "      <th>0</th>\n",
       "      <td>604281</td>\n",
       "      <td>9</td>\n",
       "    </tr>\n",
       "  </tbody>\n",
       "</table>\n",
       "</div>"
      ],
      "text/plain": [
       "    Filas  Columnas\n",
       "0  604281         9"
      ]
     },
     "execution_count": 89,
     "metadata": {},
     "output_type": "execute_result"
    }
   ],
   "source": [
    "pd.DataFrame([X_test.shape], columns=['Filas', 'Columnas'])"
   ]
  },
  {
   "cell_type": "code",
   "execution_count": null,
   "metadata": {},
   "outputs": [
    {
     "name": "stdout",
     "output_type": "stream",
     "text": [
      "18884/18884 [==============================] - 25s 1ms/step\n"
     ]
    }
   ],
   "source": [
    "# Hacer una predicción\n",
    "predicciones = modelo.predict(X_test_scaled)\n",
    "\n",
    "# Las predicciones son probabilidades para cada clase, así que tomamos la clase con la mayor probabilidad\n",
    "clases_predichas = np.argmax(predicciones, axis=1)\n",
    "\n",
    "# Convertir las clases predichas a las etiquetas originales\n",
    "etiquetas_predichas = (clases_predichas / 10) + 1"
   ]
  },
  {
   "cell_type": "code",
   "execution_count": null,
   "metadata": {},
   "outputs": [
    {
     "name": "stdout",
     "output_type": "stream",
     "text": [
      "MAE: 0.417\n",
      "MSE: 0.321\n",
      "R2: 0.214\n"
     ]
    }
   ],
   "source": [
    "# Calcular el error absoluto medio\n",
    "mae = mean_absolute_error(y_test, etiquetas_predichas)\n",
    "print('MAE: %.3f' % mae)\n",
    "\n",
    "# Calcular el error cuadrático medio\n",
    "mse = mean_squared_error(y_test, etiquetas_predichas)\n",
    "print('MSE: %.3f' % mse)\n",
    "\n",
    "# Calcular el coeficiente de determinación\n",
    "r2 = r2_score(y_test, etiquetas_predichas)\n",
    "print('R2: %.3f' % r2)"
   ]
  },
  {
   "cell_type": "code",
   "execution_count": null,
   "metadata": {},
   "outputs": [
    {
     "name": "stdout",
     "output_type": "stream",
     "text": [
      "MSE: 0.2872638260655311\n",
      "MAE: 0.41172024028354637\n",
      "R2: 0.2965976359876207\n"
     ]
    }
   ],
   "source": [
    "# Métricas de evaluación del modelo\n",
    "mse = mean_squared_error(y_test, y_pred)\n",
    "mae = mean_absolute_error(y_test, y_pred)\n",
    "r2 = r2_score(y_test, y_pred)\n",
    "print(\"MSE:\", mse)\n",
    "print(\"MAE:\", mae)\n",
    "print(\"R2:\", r2)"
   ]
  },
  {
   "cell_type": "code",
   "execution_count": null,
   "metadata": {},
   "outputs": [],
   "source": [
    "# Guardar los resultados\n",
    "results = pd.DataFrame({'Modelo': ['Neural Network'],\n",
    "                        'MSE': [mse],\n",
    "                        'MAE': [mae],\n",
    "                        'R2': [r2]})\n",
    "results.to_csv('resultados/RedNeuronal.csv', index=False)\n"
   ]
  }
 ],
 "metadata": {
  "kernelspec": {
   "display_name": "Python 3",
   "language": "python",
   "name": "python3"
  },
  "language_info": {
   "codemirror_mode": {
    "name": "ipython",
    "version": 3
   },
   "file_extension": ".py",
   "mimetype": "text/x-python",
   "name": "python",
   "nbconvert_exporter": "python",
   "pygments_lexer": "ipython3",
   "version": "3.11.3"
  }
 },
 "nbformat": 4,
 "nbformat_minor": 2
}
