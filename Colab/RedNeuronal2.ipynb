{
 "cells": [
  {
   "cell_type": "code",
   "execution_count": 77,
   "metadata": {},
   "outputs": [
    {
     "name": "stdout",
     "output_type": "stream",
     "text": [
      "GPU no disponible.\n"
     ]
    }
   ],
   "source": [
    "import pandas as pd\n",
    "import numpy as np\n",
    "import time\n",
    "import os\n",
    "from sklearn.model_selection import train_test_split\n",
    "from sklearn.metrics import mean_squared_error, mean_absolute_error, r2_score\n",
    "import tensorflow as tf\n",
    "from tensorflow import keras\n",
    "import joblib\n",
    "\n",
    "# Verificar que la GPU está disponible\n",
    "physical_devices = tf.config.list_physical_devices('GPU')\n",
    "if len(physical_devices) > 0:\n",
    "    print(\"GPU disponible.\")\n",
    "else:\n",
    "    print(\"GPU no disponible.\")"
   ]
  },
  {
   "cell_type": "code",
   "execution_count": 78,
   "metadata": {},
   "outputs": [],
   "source": [
    "# Crear la carpeta 'resultados' si no existe\n",
    "if not os.path.exists('resultados'):\n",
    "    os.makedirs('resultados')"
   ]
  },
  {
   "cell_type": "code",
   "execution_count": 79,
   "metadata": {},
   "outputs": [
    {
     "name": "stderr",
     "output_type": "stream",
     "text": [
      "C:\\Users\\Ketbome\\AppData\\Local\\Temp\\ipykernel_9252\\909222528.py:3: DtypeWarning: Columns (25) have mixed types. Specify dtype option on import or set low_memory=False.\n",
      "  data_all = pd.read_csv(cleaned_data_path)\n"
     ]
    }
   ],
   "source": [
    "# Cargar los datos\n",
    "cleaned_data_path = '../datasets/cleaned_data.csv'\n",
    "data_all = pd.read_csv(cleaned_data_path)"
   ]
  },
  {
   "cell_type": "code",
   "execution_count": 80,
   "metadata": {},
   "outputs": [
    {
     "data": {
      "text/html": [
       "<div>\n",
       "<style scoped>\n",
       "    .dataframe tbody tr th:only-of-type {\n",
       "        vertical-align: middle;\n",
       "    }\n",
       "\n",
       "    .dataframe tbody tr th {\n",
       "        vertical-align: top;\n",
       "    }\n",
       "\n",
       "    .dataframe thead th {\n",
       "        text-align: right;\n",
       "    }\n",
       "</style>\n",
       "<table border=\"1\" class=\"dataframe\">\n",
       "  <thead>\n",
       "    <tr style=\"text-align: right;\">\n",
       "      <th></th>\n",
       "      <th>ï»¿AGNO</th>\n",
       "      <th>RBD</th>\n",
       "      <th>DGV_RBD</th>\n",
       "      <th>NOM_RBD</th>\n",
       "      <th>COD_REG_RBD</th>\n",
       "      <th>NOM_REG_RBD_A</th>\n",
       "      <th>COD_PRO_RBD</th>\n",
       "      <th>COD_COM_RBD</th>\n",
       "      <th>NOM_COM_RBD</th>\n",
       "      <th>COD_DEPROV_RBD</th>\n",
       "      <th>...</th>\n",
       "      <th>COD_COM_ALU</th>\n",
       "      <th>NOM_COM_ALU</th>\n",
       "      <th>COD_RAMA</th>\n",
       "      <th>COD_SEC</th>\n",
       "      <th>COD_ESPE</th>\n",
       "      <th>PROM_GRAL</th>\n",
       "      <th>ASISTENCIA</th>\n",
       "      <th>SIT_FIN</th>\n",
       "      <th>SIT_FIN_R</th>\n",
       "      <th>COD_MEN</th>\n",
       "    </tr>\n",
       "  </thead>\n",
       "  <tbody>\n",
       "    <tr>\n",
       "      <th>0</th>\n",
       "      <td>2022</td>\n",
       "      <td>1</td>\n",
       "      <td>9</td>\n",
       "      <td>LICEO POLITECNICO ARICA</td>\n",
       "      <td>15</td>\n",
       "      <td>AYP</td>\n",
       "      <td>151</td>\n",
       "      <td>15101</td>\n",
       "      <td>ARICA</td>\n",
       "      <td>151</td>\n",
       "      <td>...</td>\n",
       "      <td>15101</td>\n",
       "      <td>ARICA</td>\n",
       "      <td>400</td>\n",
       "      <td>410</td>\n",
       "      <td>41001</td>\n",
       "      <td>6.6</td>\n",
       "      <td>98</td>\n",
       "      <td>P</td>\n",
       "      <td>P</td>\n",
       "      <td>0</td>\n",
       "    </tr>\n",
       "    <tr>\n",
       "      <th>1</th>\n",
       "      <td>2022</td>\n",
       "      <td>1</td>\n",
       "      <td>9</td>\n",
       "      <td>LICEO POLITECNICO ARICA</td>\n",
       "      <td>15</td>\n",
       "      <td>AYP</td>\n",
       "      <td>151</td>\n",
       "      <td>15101</td>\n",
       "      <td>ARICA</td>\n",
       "      <td>151</td>\n",
       "      <td>...</td>\n",
       "      <td>15101</td>\n",
       "      <td>ARICA</td>\n",
       "      <td>400</td>\n",
       "      <td>410</td>\n",
       "      <td>41001</td>\n",
       "      <td>6.2</td>\n",
       "      <td>85</td>\n",
       "      <td>P</td>\n",
       "      <td>P</td>\n",
       "      <td>0</td>\n",
       "    </tr>\n",
       "    <tr>\n",
       "      <th>2</th>\n",
       "      <td>2022</td>\n",
       "      <td>1</td>\n",
       "      <td>9</td>\n",
       "      <td>LICEO POLITECNICO ARICA</td>\n",
       "      <td>15</td>\n",
       "      <td>AYP</td>\n",
       "      <td>151</td>\n",
       "      <td>15101</td>\n",
       "      <td>ARICA</td>\n",
       "      <td>151</td>\n",
       "      <td>...</td>\n",
       "      <td>15101</td>\n",
       "      <td>ARICA</td>\n",
       "      <td>400</td>\n",
       "      <td>410</td>\n",
       "      <td>41001</td>\n",
       "      <td>6.3</td>\n",
       "      <td>86</td>\n",
       "      <td>P</td>\n",
       "      <td>P</td>\n",
       "      <td>0</td>\n",
       "    </tr>\n",
       "    <tr>\n",
       "      <th>3</th>\n",
       "      <td>2022</td>\n",
       "      <td>1</td>\n",
       "      <td>9</td>\n",
       "      <td>LICEO POLITECNICO ARICA</td>\n",
       "      <td>15</td>\n",
       "      <td>AYP</td>\n",
       "      <td>151</td>\n",
       "      <td>15101</td>\n",
       "      <td>ARICA</td>\n",
       "      <td>151</td>\n",
       "      <td>...</td>\n",
       "      <td>15101</td>\n",
       "      <td>ARICA</td>\n",
       "      <td>400</td>\n",
       "      <td>410</td>\n",
       "      <td>41001</td>\n",
       "      <td>6.3</td>\n",
       "      <td>100</td>\n",
       "      <td>P</td>\n",
       "      <td>P</td>\n",
       "      <td>0</td>\n",
       "    </tr>\n",
       "    <tr>\n",
       "      <th>4</th>\n",
       "      <td>2022</td>\n",
       "      <td>1</td>\n",
       "      <td>9</td>\n",
       "      <td>LICEO POLITECNICO ARICA</td>\n",
       "      <td>15</td>\n",
       "      <td>AYP</td>\n",
       "      <td>151</td>\n",
       "      <td>15101</td>\n",
       "      <td>ARICA</td>\n",
       "      <td>151</td>\n",
       "      <td>...</td>\n",
       "      <td>15101</td>\n",
       "      <td>ARICA</td>\n",
       "      <td>400</td>\n",
       "      <td>410</td>\n",
       "      <td>41001</td>\n",
       "      <td>6.7</td>\n",
       "      <td>100</td>\n",
       "      <td>P</td>\n",
       "      <td>P</td>\n",
       "      <td>0</td>\n",
       "    </tr>\n",
       "  </tbody>\n",
       "</table>\n",
       "<p>5 rows × 37 columns</p>\n",
       "</div>"
      ],
      "text/plain": [
       "   ï»¿AGNO  RBD  DGV_RBD                  NOM_RBD  COD_REG_RBD NOM_REG_RBD_A  \\\n",
       "0     2022    1        9  LICEO POLITECNICO ARICA           15           AYP   \n",
       "1     2022    1        9  LICEO POLITECNICO ARICA           15           AYP   \n",
       "2     2022    1        9  LICEO POLITECNICO ARICA           15           AYP   \n",
       "3     2022    1        9  LICEO POLITECNICO ARICA           15           AYP   \n",
       "4     2022    1        9  LICEO POLITECNICO ARICA           15           AYP   \n",
       "\n",
       "   COD_PRO_RBD  COD_COM_RBD NOM_COM_RBD  COD_DEPROV_RBD  ... COD_COM_ALU  \\\n",
       "0          151        15101       ARICA             151  ...       15101   \n",
       "1          151        15101       ARICA             151  ...       15101   \n",
       "2          151        15101       ARICA             151  ...       15101   \n",
       "3          151        15101       ARICA             151  ...       15101   \n",
       "4          151        15101       ARICA             151  ...       15101   \n",
       "\n",
       "   NOM_COM_ALU  COD_RAMA  COD_SEC  COD_ESPE  PROM_GRAL  ASISTENCIA  SIT_FIN  \\\n",
       "0        ARICA       400      410     41001        6.6          98        P   \n",
       "1        ARICA       400      410     41001        6.2          85        P   \n",
       "2        ARICA       400      410     41001        6.3          86        P   \n",
       "3        ARICA       400      410     41001        6.3         100        P   \n",
       "4        ARICA       400      410     41001        6.7         100        P   \n",
       "\n",
       "  SIT_FIN_R  COD_MEN  \n",
       "0         P        0  \n",
       "1         P        0  \n",
       "2         P        0  \n",
       "3         P        0  \n",
       "4         P        0  \n",
       "\n",
       "[5 rows x 37 columns]"
      ]
     },
     "execution_count": 80,
     "metadata": {},
     "output_type": "execute_result"
    }
   ],
   "source": [
    "data_all.head()"
   ]
  },
  {
   "cell_type": "code",
   "execution_count": 81,
   "metadata": {},
   "outputs": [
    {
     "data": {
      "text/html": [
       "<div>\n",
       "<style scoped>\n",
       "    .dataframe tbody tr th:only-of-type {\n",
       "        vertical-align: middle;\n",
       "    }\n",
       "\n",
       "    .dataframe tbody tr th {\n",
       "        vertical-align: top;\n",
       "    }\n",
       "\n",
       "    .dataframe thead th {\n",
       "        text-align: right;\n",
       "    }\n",
       "</style>\n",
       "<table border=\"1\" class=\"dataframe\">\n",
       "  <thead>\n",
       "    <tr style=\"text-align: right;\">\n",
       "      <th></th>\n",
       "      <th>ï»¿AGNO</th>\n",
       "      <th>RBD</th>\n",
       "      <th>DGV_RBD</th>\n",
       "      <th>COD_REG_RBD</th>\n",
       "      <th>COD_PRO_RBD</th>\n",
       "      <th>COD_COM_RBD</th>\n",
       "      <th>COD_DEPROV_RBD</th>\n",
       "      <th>COD_DEPE</th>\n",
       "      <th>COD_DEPE2</th>\n",
       "      <th>RURAL_RBD</th>\n",
       "      <th>...</th>\n",
       "      <th>GEN_ALU</th>\n",
       "      <th>FEC_NAC_ALU</th>\n",
       "      <th>COD_REG_ALU</th>\n",
       "      <th>COD_COM_ALU</th>\n",
       "      <th>COD_RAMA</th>\n",
       "      <th>COD_SEC</th>\n",
       "      <th>COD_ESPE</th>\n",
       "      <th>PROM_GRAL</th>\n",
       "      <th>ASISTENCIA</th>\n",
       "      <th>COD_MEN</th>\n",
       "    </tr>\n",
       "  </thead>\n",
       "  <tbody>\n",
       "    <tr>\n",
       "      <th>count</th>\n",
       "      <td>3092863.0</td>\n",
       "      <td>3.092863e+06</td>\n",
       "      <td>3.092863e+06</td>\n",
       "      <td>3.092863e+06</td>\n",
       "      <td>3.092863e+06</td>\n",
       "      <td>3.092863e+06</td>\n",
       "      <td>3.092863e+06</td>\n",
       "      <td>3.092863e+06</td>\n",
       "      <td>3.092863e+06</td>\n",
       "      <td>3.092863e+06</td>\n",
       "      <td>...</td>\n",
       "      <td>3.092863e+06</td>\n",
       "      <td>3.092863e+06</td>\n",
       "      <td>3.092863e+06</td>\n",
       "      <td>3.092863e+06</td>\n",
       "      <td>3.092863e+06</td>\n",
       "      <td>3.092863e+06</td>\n",
       "      <td>3.092863e+06</td>\n",
       "      <td>3.092863e+06</td>\n",
       "      <td>3.092863e+06</td>\n",
       "      <td>3.092863e+06</td>\n",
       "    </tr>\n",
       "    <tr>\n",
       "      <th>mean</th>\n",
       "      <td>2022.0</td>\n",
       "      <td>1.165594e+04</td>\n",
       "      <td>4.451590e+00</td>\n",
       "      <td>9.405875e+00</td>\n",
       "      <td>9.599672e+01</td>\n",
       "      <td>9.606289e+03</td>\n",
       "      <td>9.458625e+01</td>\n",
       "      <td>2.844326e+00</td>\n",
       "      <td>1.950878e+00</td>\n",
       "      <td>7.923080e-02</td>\n",
       "      <td>...</td>\n",
       "      <td>1.487296e+00</td>\n",
       "      <td>2.009223e+05</td>\n",
       "      <td>9.477278e+00</td>\n",
       "      <td>9.674496e+03</td>\n",
       "      <td>2.710253e+01</td>\n",
       "      <td>2.844374e+01</td>\n",
       "      <td>2.844879e+03</td>\n",
       "      <td>6.016696e+00</td>\n",
       "      <td>8.791779e+01</td>\n",
       "      <td>1.256763e+06</td>\n",
       "    </tr>\n",
       "    <tr>\n",
       "      <th>std</th>\n",
       "      <td>0.0</td>\n",
       "      <td>9.040180e+03</td>\n",
       "      <td>2.880477e+00</td>\n",
       "      <td>4.006076e+00</td>\n",
       "      <td>3.985246e+01</td>\n",
       "      <td>3.988039e+03</td>\n",
       "      <td>3.941338e+01</td>\n",
       "      <td>1.103612e+00</td>\n",
       "      <td>9.592328e-01</td>\n",
       "      <td>2.700987e-01</td>\n",
       "      <td>...</td>\n",
       "      <td>4.998419e-01</td>\n",
       "      <td>5.383089e+02</td>\n",
       "      <td>4.022214e+00</td>\n",
       "      <td>4.004428e+03</td>\n",
       "      <td>1.165727e+02</td>\n",
       "      <td>1.223818e+02</td>\n",
       "      <td>1.224033e+04</td>\n",
       "      <td>6.925039e-01</td>\n",
       "      <td>1.147545e+01</td>\n",
       "      <td>8.217453e+06</td>\n",
       "    </tr>\n",
       "    <tr>\n",
       "      <th>min</th>\n",
       "      <td>2022.0</td>\n",
       "      <td>1.000000e+00</td>\n",
       "      <td>0.000000e+00</td>\n",
       "      <td>1.000000e+00</td>\n",
       "      <td>1.100000e+01</td>\n",
       "      <td>1.101000e+03</td>\n",
       "      <td>1.100000e+01</td>\n",
       "      <td>1.000000e+00</td>\n",
       "      <td>1.000000e+00</td>\n",
       "      <td>0.000000e+00</td>\n",
       "      <td>...</td>\n",
       "      <td>0.000000e+00</td>\n",
       "      <td>1.900010e+05</td>\n",
       "      <td>1.000000e+00</td>\n",
       "      <td>1.101000e+03</td>\n",
       "      <td>0.000000e+00</td>\n",
       "      <td>0.000000e+00</td>\n",
       "      <td>0.000000e+00</td>\n",
       "      <td>1.000000e+00</td>\n",
       "      <td>1.000000e+00</td>\n",
       "      <td>0.000000e+00</td>\n",
       "    </tr>\n",
       "    <tr>\n",
       "      <th>25%</th>\n",
       "      <td>2022.0</td>\n",
       "      <td>4.553000e+03</td>\n",
       "      <td>2.000000e+00</td>\n",
       "      <td>6.000000e+00</td>\n",
       "      <td>6.100000e+01</td>\n",
       "      <td>6.106000e+03</td>\n",
       "      <td>6.100000e+01</td>\n",
       "      <td>2.000000e+00</td>\n",
       "      <td>1.000000e+00</td>\n",
       "      <td>0.000000e+00</td>\n",
       "      <td>...</td>\n",
       "      <td>1.000000e+00</td>\n",
       "      <td>2.007010e+05</td>\n",
       "      <td>6.000000e+00</td>\n",
       "      <td>6.108000e+03</td>\n",
       "      <td>0.000000e+00</td>\n",
       "      <td>0.000000e+00</td>\n",
       "      <td>0.000000e+00</td>\n",
       "      <td>5.700000e+00</td>\n",
       "      <td>8.500000e+01</td>\n",
       "      <td>0.000000e+00</td>\n",
       "    </tr>\n",
       "    <tr>\n",
       "      <th>50%</th>\n",
       "      <td>2022.0</td>\n",
       "      <td>9.799000e+03</td>\n",
       "      <td>4.000000e+00</td>\n",
       "      <td>1.000000e+01</td>\n",
       "      <td>1.010000e+02</td>\n",
       "      <td>1.010100e+04</td>\n",
       "      <td>9.200000e+01</td>\n",
       "      <td>3.000000e+00</td>\n",
       "      <td>2.000000e+00</td>\n",
       "      <td>0.000000e+00</td>\n",
       "      <td>...</td>\n",
       "      <td>1.000000e+00</td>\n",
       "      <td>2.010020e+05</td>\n",
       "      <td>1.000000e+01</td>\n",
       "      <td>1.010700e+04</td>\n",
       "      <td>0.000000e+00</td>\n",
       "      <td>0.000000e+00</td>\n",
       "      <td>0.000000e+00</td>\n",
       "      <td>6.100000e+00</td>\n",
       "      <td>9.000000e+01</td>\n",
       "      <td>0.000000e+00</td>\n",
       "    </tr>\n",
       "    <tr>\n",
       "      <th>75%</th>\n",
       "      <td>2022.0</td>\n",
       "      <td>1.667300e+04</td>\n",
       "      <td>7.000000e+00</td>\n",
       "      <td>1.300000e+01</td>\n",
       "      <td>1.310000e+02</td>\n",
       "      <td>1.312200e+04</td>\n",
       "      <td>1.340000e+02</td>\n",
       "      <td>3.000000e+00</td>\n",
       "      <td>2.000000e+00</td>\n",
       "      <td>0.000000e+00</td>\n",
       "      <td>...</td>\n",
       "      <td>2.000000e+00</td>\n",
       "      <td>2.013020e+05</td>\n",
       "      <td>1.300000e+01</td>\n",
       "      <td>1.312200e+04</td>\n",
       "      <td>0.000000e+00</td>\n",
       "      <td>0.000000e+00</td>\n",
       "      <td>0.000000e+00</td>\n",
       "      <td>6.500000e+00</td>\n",
       "      <td>9.500000e+01</td>\n",
       "      <td>0.000000e+00</td>\n",
       "    </tr>\n",
       "    <tr>\n",
       "      <th>max</th>\n",
       "      <td>2022.0</td>\n",
       "      <td>4.213000e+04</td>\n",
       "      <td>9.000000e+00</td>\n",
       "      <td>1.600000e+01</td>\n",
       "      <td>1.630000e+02</td>\n",
       "      <td>1.630500e+04</td>\n",
       "      <td>1.510000e+02</td>\n",
       "      <td>6.000000e+00</td>\n",
       "      <td>5.000000e+00</td>\n",
       "      <td>1.000000e+00</td>\n",
       "      <td>...</td>\n",
       "      <td>2.000000e+00</td>\n",
       "      <td>2.018120e+05</td>\n",
       "      <td>1.600000e+01</td>\n",
       "      <td>1.630500e+04</td>\n",
       "      <td>9.000000e+02</td>\n",
       "      <td>9.100000e+02</td>\n",
       "      <td>9.100500e+04</td>\n",
       "      <td>7.000000e+00</td>\n",
       "      <td>1.000000e+02</td>\n",
       "      <td>7.200700e+07</td>\n",
       "    </tr>\n",
       "  </tbody>\n",
       "</table>\n",
       "<p>8 rows × 28 columns</p>\n",
       "</div>"
      ],
      "text/plain": [
       "         ï»¿AGNO           RBD       DGV_RBD   COD_REG_RBD   COD_PRO_RBD  \\\n",
       "count  3092863.0  3.092863e+06  3.092863e+06  3.092863e+06  3.092863e+06   \n",
       "mean      2022.0  1.165594e+04  4.451590e+00  9.405875e+00  9.599672e+01   \n",
       "std          0.0  9.040180e+03  2.880477e+00  4.006076e+00  3.985246e+01   \n",
       "min       2022.0  1.000000e+00  0.000000e+00  1.000000e+00  1.100000e+01   \n",
       "25%       2022.0  4.553000e+03  2.000000e+00  6.000000e+00  6.100000e+01   \n",
       "50%       2022.0  9.799000e+03  4.000000e+00  1.000000e+01  1.010000e+02   \n",
       "75%       2022.0  1.667300e+04  7.000000e+00  1.300000e+01  1.310000e+02   \n",
       "max       2022.0  4.213000e+04  9.000000e+00  1.600000e+01  1.630000e+02   \n",
       "\n",
       "        COD_COM_RBD  COD_DEPROV_RBD      COD_DEPE     COD_DEPE2     RURAL_RBD  \\\n",
       "count  3.092863e+06    3.092863e+06  3.092863e+06  3.092863e+06  3.092863e+06   \n",
       "mean   9.606289e+03    9.458625e+01  2.844326e+00  1.950878e+00  7.923080e-02   \n",
       "std    3.988039e+03    3.941338e+01  1.103612e+00  9.592328e-01  2.700987e-01   \n",
       "min    1.101000e+03    1.100000e+01  1.000000e+00  1.000000e+00  0.000000e+00   \n",
       "25%    6.106000e+03    6.100000e+01  2.000000e+00  1.000000e+00  0.000000e+00   \n",
       "50%    1.010100e+04    9.200000e+01  3.000000e+00  2.000000e+00  0.000000e+00   \n",
       "75%    1.312200e+04    1.340000e+02  3.000000e+00  2.000000e+00  0.000000e+00   \n",
       "max    1.630500e+04    1.510000e+02  6.000000e+00  5.000000e+00  1.000000e+00   \n",
       "\n",
       "       ...       GEN_ALU   FEC_NAC_ALU   COD_REG_ALU   COD_COM_ALU  \\\n",
       "count  ...  3.092863e+06  3.092863e+06  3.092863e+06  3.092863e+06   \n",
       "mean   ...  1.487296e+00  2.009223e+05  9.477278e+00  9.674496e+03   \n",
       "std    ...  4.998419e-01  5.383089e+02  4.022214e+00  4.004428e+03   \n",
       "min    ...  0.000000e+00  1.900010e+05  1.000000e+00  1.101000e+03   \n",
       "25%    ...  1.000000e+00  2.007010e+05  6.000000e+00  6.108000e+03   \n",
       "50%    ...  1.000000e+00  2.010020e+05  1.000000e+01  1.010700e+04   \n",
       "75%    ...  2.000000e+00  2.013020e+05  1.300000e+01  1.312200e+04   \n",
       "max    ...  2.000000e+00  2.018120e+05  1.600000e+01  1.630500e+04   \n",
       "\n",
       "           COD_RAMA       COD_SEC      COD_ESPE     PROM_GRAL    ASISTENCIA  \\\n",
       "count  3.092863e+06  3.092863e+06  3.092863e+06  3.092863e+06  3.092863e+06   \n",
       "mean   2.710253e+01  2.844374e+01  2.844879e+03  6.016696e+00  8.791779e+01   \n",
       "std    1.165727e+02  1.223818e+02  1.224033e+04  6.925039e-01  1.147545e+01   \n",
       "min    0.000000e+00  0.000000e+00  0.000000e+00  1.000000e+00  1.000000e+00   \n",
       "25%    0.000000e+00  0.000000e+00  0.000000e+00  5.700000e+00  8.500000e+01   \n",
       "50%    0.000000e+00  0.000000e+00  0.000000e+00  6.100000e+00  9.000000e+01   \n",
       "75%    0.000000e+00  0.000000e+00  0.000000e+00  6.500000e+00  9.500000e+01   \n",
       "max    9.000000e+02  9.100000e+02  9.100500e+04  7.000000e+00  1.000000e+02   \n",
       "\n",
       "            COD_MEN  \n",
       "count  3.092863e+06  \n",
       "mean   1.256763e+06  \n",
       "std    8.217453e+06  \n",
       "min    0.000000e+00  \n",
       "25%    0.000000e+00  \n",
       "50%    0.000000e+00  \n",
       "75%    0.000000e+00  \n",
       "max    7.200700e+07  \n",
       "\n",
       "[8 rows x 28 columns]"
      ]
     },
     "execution_count": 81,
     "metadata": {},
     "output_type": "execute_result"
    }
   ],
   "source": [
    "data_all.describe()"
   ]
  },
  {
   "cell_type": "code",
   "execution_count": 82,
   "metadata": {},
   "outputs": [
    {
     "data": {
      "text/plain": [
       "ï»¿AGNO           0\n",
       "RBD               0\n",
       "DGV_RBD           0\n",
       "NOM_RBD           0\n",
       "COD_REG_RBD       0\n",
       "NOM_REG_RBD_A     0\n",
       "COD_PRO_RBD       0\n",
       "COD_COM_RBD       0\n",
       "NOM_COM_RBD       0\n",
       "COD_DEPROV_RBD    0\n",
       "NOM_DEPROV_RBD    0\n",
       "COD_DEPE          0\n",
       "COD_DEPE2         0\n",
       "RURAL_RBD         0\n",
       "ESTADO_ESTAB      0\n",
       "COD_ENSE          0\n",
       "COD_ENSE2         0\n",
       "COD_GRADO         0\n",
       "LET_CUR           0\n",
       "COD_JOR           0\n",
       "COD_TIP_CUR       0\n",
       "COD_DES_CUR       0\n",
       "MRUN              0\n",
       "GEN_ALU           0\n",
       "FEC_NAC_ALU       0\n",
       "EDAD_ALU          0\n",
       "COD_REG_ALU       0\n",
       "COD_COM_ALU       0\n",
       "NOM_COM_ALU       0\n",
       "COD_RAMA          0\n",
       "COD_SEC           0\n",
       "COD_ESPE          0\n",
       "PROM_GRAL         0\n",
       "ASISTENCIA        0\n",
       "SIT_FIN           0\n",
       "SIT_FIN_R         0\n",
       "COD_MEN           0\n",
       "dtype: int64"
      ]
     },
     "execution_count": 82,
     "metadata": {},
     "output_type": "execute_result"
    }
   ],
   "source": [
    "data_all.isna().sum()"
   ]
  },
  {
   "cell_type": "code",
   "execution_count": 83,
   "metadata": {},
   "outputs": [],
   "source": [
    "data_all = data_all.dropna()"
   ]
  },
  {
   "cell_type": "code",
   "execution_count": 84,
   "metadata": {},
   "outputs": [
    {
     "data": {
      "text/plain": [
       "<matplotlib.legend.Legend at 0x1b3d2305550>"
      ]
     },
     "execution_count": 84,
     "metadata": {},
     "output_type": "execute_result"
    },
    {
     "data": {
      "image/png": "[encoded data removed]",
      "text/plain": [
       "<Figure size 2000x1000 with 1 Axes>"
      ]
     },
     "metadata": {},
     "output_type": "display_data"
    }
   ],
   "source": [
    "import seaborn as sb\n",
    "import matplotlib.pyplot as plt\n",
    "\n",
    "\n",
    "plt.figure(figsize=(20,10))\n",
    "sb.countplot(x='PROM_GRAL', data=data_all, hue='GEN_ALU', palette='Set1')\n",
    "plt.legend([\"Sin información\", \"Masculino\", \"Femenino\"])\n"
   ]
  },
  {
   "cell_type": "code",
   "execution_count": 86,
   "metadata": {},
   "outputs": [],
   "source": [
    "# Columnas\n",
    "#['ï»¿AGNO', 'RBD', 'DGV_RBD', 'NOM_RBD', 'COD_REG_RBD', 'NOM_REG_RBD_A', 'COD_PRO_RBD', 'COD_COM_RBD', \n",
    "#'NOM_COM_RBD', 'COD_DEPROV_RBD', 'NOM_DEPROV_RBD', 'COD_DEPE', 'COD_DEPE2', 'RURAL_RBD', 'ESTADO_ESTAB',\n",
    "#'COD_ENSE', 'COD_ENSE2', 'COD_GRADO', 'LET_CUR', 'COD_JOR',\n",
    "#'COD_TIP_CUR', 'COD_DES_CUR', 'MRUN', 'GEN_ALU', 'FEC_NAC_ALU',\n",
    "#'EDAD_ALU', 'COD_REG_ALU', 'COD_COM_ALU', 'NOM_COM_ALU', 'COD_RAMA',\n",
    "#'COD_SEC', 'COD_ESPE', 'PROM_GRAL', 'ASISTENCIA', 'SIT_FIN',\n",
    "#'SIT_FIN_R', 'COD_MEN']\n",
    "\n",
    "# Hacer data = data_all con las columnas a usar EDAD_ALU, GEN_ALU, PROM_GRAL\n",
    "data = data_all[['COD_COM_RBD', 'COD_DEPE2', 'RURAL_RBD', 'COD_ENSE2', 'COD_GRADO', 'COD_JOR', 'GEN_ALU', 'EDAD_ALU', 'PROM_GRAL', 'ASISTENCIA']]"
   ]
  },
  {
   "cell_type": "code",
   "execution_count": 87,
   "metadata": {},
   "outputs": [
    {
     "name": "stderr",
     "output_type": "stream",
     "text": [
      "C:\\Users\\Ketbome\\AppData\\Local\\Temp\\ipykernel_9252\\411012605.py:2: SettingWithCopyWarning: \n",
      "A value is trying to be set on a copy of a slice from a DataFrame.\n",
      "Try using .loc[row_indexer,col_indexer] = value instead\n",
      "\n",
      "See the caveats in the documentation: https://pandas.pydata.org/pandas-docs/stable/user_guide/indexing.html#returning-a-view-versus-a-copy\n",
      "  data['EDAD_ALU'] = pd.to_numeric(data['EDAD_ALU'], errors='coerce')\n"
     ]
    }
   ],
   "source": [
    "# Convertir la columna a números, los valores inválidos se convierten en NaN\n",
    "data['EDAD_ALU'] = pd.to_numeric(data['EDAD_ALU'], errors='coerce')\n",
    "\n",
    "# Eliminar las filas con NaN en la columna 'EDAD_ALU'\n",
    "data = data.dropna(subset=['EDAD_ALU'])\n",
    "\n",
    "# Borrar las personas que tengan mas de 20 años\n",
    "data = data[data['EDAD_ALU'] <= 20]"
   ]
  },
  {
   "cell_type": "code",
   "execution_count": 88,
   "metadata": {},
   "outputs": [
    {
     "data": {
      "text/html": [
       "<div>\n",
       "<style scoped>\n",
       "    .dataframe tbody tr th:only-of-type {\n",
       "        vertical-align: middle;\n",
       "    }\n",
       "\n",
       "    .dataframe tbody tr th {\n",
       "        vertical-align: top;\n",
       "    }\n",
       "\n",
       "    .dataframe thead th {\n",
       "        text-align: right;\n",
       "    }\n",
       "</style>\n",
       "<table border=\"1\" class=\"dataframe\">\n",
       "  <thead>\n",
       "    <tr style=\"text-align: right;\">\n",
       "      <th></th>\n",
       "      <th>COD_COM_RBD</th>\n",
       "      <th>COD_DEPE2</th>\n",
       "      <th>RURAL_RBD</th>\n",
       "      <th>COD_ENSE2</th>\n",
       "      <th>COD_GRADO</th>\n",
       "      <th>COD_JOR</th>\n",
       "      <th>GEN_ALU</th>\n",
       "      <th>EDAD_ALU</th>\n",
       "      <th>PROM_GRAL</th>\n",
       "      <th>ASISTENCIA</th>\n",
       "    </tr>\n",
       "  </thead>\n",
       "  <tbody>\n",
       "    <tr>\n",
       "      <th>7</th>\n",
       "      <td>15101</td>\n",
       "      <td>5</td>\n",
       "      <td>0</td>\n",
       "      <td>7</td>\n",
       "      <td>1</td>\n",
       "      <td>1</td>\n",
       "      <td>1</td>\n",
       "      <td>14.0</td>\n",
       "      <td>4.5</td>\n",
       "      <td>85</td>\n",
       "    </tr>\n",
       "    <tr>\n",
       "      <th>8</th>\n",
       "      <td>15101</td>\n",
       "      <td>5</td>\n",
       "      <td>0</td>\n",
       "      <td>7</td>\n",
       "      <td>1</td>\n",
       "      <td>1</td>\n",
       "      <td>1</td>\n",
       "      <td>15.0</td>\n",
       "      <td>5.1</td>\n",
       "      <td>89</td>\n",
       "    </tr>\n",
       "    <tr>\n",
       "      <th>9</th>\n",
       "      <td>15101</td>\n",
       "      <td>5</td>\n",
       "      <td>0</td>\n",
       "      <td>7</td>\n",
       "      <td>1</td>\n",
       "      <td>1</td>\n",
       "      <td>1</td>\n",
       "      <td>16.0</td>\n",
       "      <td>5.3</td>\n",
       "      <td>89</td>\n",
       "    </tr>\n",
       "    <tr>\n",
       "      <th>10</th>\n",
       "      <td>15101</td>\n",
       "      <td>5</td>\n",
       "      <td>0</td>\n",
       "      <td>7</td>\n",
       "      <td>1</td>\n",
       "      <td>1</td>\n",
       "      <td>2</td>\n",
       "      <td>16.0</td>\n",
       "      <td>5.9</td>\n",
       "      <td>90</td>\n",
       "    </tr>\n",
       "    <tr>\n",
       "      <th>11</th>\n",
       "      <td>15101</td>\n",
       "      <td>5</td>\n",
       "      <td>0</td>\n",
       "      <td>7</td>\n",
       "      <td>1</td>\n",
       "      <td>1</td>\n",
       "      <td>1</td>\n",
       "      <td>14.0</td>\n",
       "      <td>5.7</td>\n",
       "      <td>90</td>\n",
       "    </tr>\n",
       "  </tbody>\n",
       "</table>\n",
       "</div>"
      ],
      "text/plain": [
       "    COD_COM_RBD  COD_DEPE2  RURAL_RBD  COD_ENSE2  COD_GRADO  COD_JOR  GEN_ALU  \\\n",
       "7         15101          5          0          7          1        1        1   \n",
       "8         15101          5          0          7          1        1        1   \n",
       "9         15101          5          0          7          1        1        1   \n",
       "10        15101          5          0          7          1        1        2   \n",
       "11        15101          5          0          7          1        1        1   \n",
       "\n",
       "    EDAD_ALU  PROM_GRAL  ASISTENCIA  \n",
       "7       14.0        4.5          85  \n",
       "8       15.0        5.1          89  \n",
       "9       16.0        5.3          89  \n",
       "10      16.0        5.9          90  \n",
       "11      14.0        5.7          90  "
      ]
     },
     "execution_count": 88,
     "metadata": {},
     "output_type": "execute_result"
    }
   ],
   "source": [
    "data.head()"
   ]
  },
  {
   "cell_type": "code",
   "execution_count": 89,
   "metadata": {},
   "outputs": [
    {
     "data": {
      "text/plain": [
       "<Axes: >"
      ]
     },
     "execution_count": 89,
     "metadata": {},
     "output_type": "execute_result"
    },
    {
     "data": {
      "image/png": "[encoded data removed]",
      "text/plain": [
       "<Figure size 2000x1000 with 2 Axes>"
      ]
     },
     "metadata": {},
     "output_type": "display_data"
    }
   ],
   "source": [
    "#Observar correlacion para hacer mas limpieza\n",
    "plt.figure(figsize=(20,10))\n",
    "sb.heatmap(data.corr(), annot=True, cmap='YlGnBu')\n"
   ]
  },
  {
   "cell_type": "code",
   "execution_count": 90,
   "metadata": {},
   "outputs": [
    {
     "data": {
      "text/plain": [
       "PROM_GRAL      1.000000\n",
       "ASISTENCIA     0.345738\n",
       "GEN_ALU        0.123678\n",
       "COD_DEPE2      0.045512\n",
       "RURAL_RBD      0.028110\n",
       "COD_COM_RBD   -0.017178\n",
       "COD_JOR       -0.058987\n",
       "COD_GRADO     -0.080422\n",
       "COD_ENSE2     -0.245983\n",
       "EDAD_ALU      -0.337581\n",
       "Name: PROM_GRAL, dtype: float64"
      ]
     },
     "execution_count": 90,
     "metadata": {},
     "output_type": "execute_result"
    }
   ],
   "source": [
    "# Ver correlacion en base a valor a evaluar\n",
    "data.corr()[\"PROM_GRAL\"].sort_values(ascending=False)"
   ]
  },
  {
   "cell_type": "code",
   "execution_count": 91,
   "metadata": {},
   "outputs": [
    {
     "data": {
      "text/html": [
       "<div>\n",
       "<style scoped>\n",
       "    .dataframe tbody tr th:only-of-type {\n",
       "        vertical-align: middle;\n",
       "    }\n",
       "\n",
       "    .dataframe tbody tr th {\n",
       "        vertical-align: top;\n",
       "    }\n",
       "\n",
       "    .dataframe thead th {\n",
       "        text-align: right;\n",
       "    }\n",
       "</style>\n",
       "<table border=\"1\" class=\"dataframe\">\n",
       "  <thead>\n",
       "    <tr style=\"text-align: right;\">\n",
       "      <th></th>\n",
       "      <th>Filas</th>\n",
       "      <th>Columnas</th>\n",
       "    </tr>\n",
       "  </thead>\n",
       "  <tbody>\n",
       "    <tr>\n",
       "      <th>0</th>\n",
       "      <td>3021404</td>\n",
       "      <td>10</td>\n",
       "    </tr>\n",
       "  </tbody>\n",
       "</table>\n",
       "</div>"
      ],
      "text/plain": [
       "     Filas  Columnas\n",
       "0  3021404        10"
      ]
     },
     "execution_count": 91,
     "metadata": {},
     "output_type": "execute_result"
    }
   ],
   "source": [
    "# Saber cuantas filas hay y columnas\n",
    "pd.DataFrame([data.shape], columns=['Filas', 'Columnas'])"
   ]
  },
  {
   "cell_type": "code",
   "execution_count": 92,
   "metadata": {},
   "outputs": [],
   "source": [
    "# División de datos\n",
    "X = data.drop(columns=['PROM_GRAL'])\n",
    "y = data['PROM_GRAL']\n",
    "X_train, X_test, y_train, y_test = train_test_split(\n",
    "    X, y, test_size=0.2, random_state=42)"
   ]
  },
  {
   "cell_type": "code",
   "execution_count": 93,
   "metadata": {},
   "outputs": [],
   "source": [
    "from sklearn.preprocessing import LabelEncoder, StandardScaler\n",
    "from tensorflow.keras import layers\n",
    "\n",
    "# Escalado de características\n",
    "scaler = StandardScaler()\n",
    "X_train_scaled = scaler.fit_transform(X_train)\n",
    "X_test_scaled = scaler.transform(X_test)"
   ]
  },
  {
   "cell_type": "code",
   "execution_count": 94,
   "metadata": {},
   "outputs": [],
   "source": [
    "# Construcción del modelo de red neuronal\n",
    "model = keras.Sequential([\n",
    "    layers.InputLayer(input_shape=(X_train_scaled.shape[1],)),\n",
    "    layers.Dense(128, activation='relu'),\n",
    "    tf.keras.layers.Dropout(0.1),\n",
    "    layers.Dense(64, activation='relu'),\n",
    "    tf.keras.layers.Dropout(0.05),\n",
    "    layers.Dense(32, activation='relu'),\n",
    "    layers.Dense(1)\n",
    "])"
   ]
  },
  {
   "cell_type": "code",
   "execution_count": 95,
   "metadata": {},
   "outputs": [],
   "source": [
    "model.compile(optimizer='adam', loss='mse', metrics=['mae'])"
   ]
  },
  {
   "cell_type": "code",
   "execution_count": 96,
   "metadata": {},
   "outputs": [
    {
     "data": {
      "text/html": [
       "<div>\n",
       "<style scoped>\n",
       "    .dataframe tbody tr th:only-of-type {\n",
       "        vertical-align: middle;\n",
       "    }\n",
       "\n",
       "    .dataframe tbody tr th {\n",
       "        vertical-align: top;\n",
       "    }\n",
       "\n",
       "    .dataframe thead th {\n",
       "        text-align: right;\n",
       "    }\n",
       "</style>\n",
       "<table border=\"1\" class=\"dataframe\">\n",
       "  <thead>\n",
       "    <tr style=\"text-align: right;\">\n",
       "      <th></th>\n",
       "      <th>Filas</th>\n",
       "      <th>Columnas</th>\n",
       "    </tr>\n",
       "  </thead>\n",
       "  <tbody>\n",
       "    <tr>\n",
       "      <th>0</th>\n",
       "      <td>2417123</td>\n",
       "      <td>9</td>\n",
       "    </tr>\n",
       "  </tbody>\n",
       "</table>\n",
       "</div>"
      ],
      "text/plain": [
       "     Filas  Columnas\n",
       "0  2417123         9"
      ]
     },
     "execution_count": 96,
     "metadata": {},
     "output_type": "execute_result"
    }
   ],
   "source": [
    "pd.DataFrame([X_train.shape], columns=['Filas', 'Columnas'])"
   ]
  },
  {
   "cell_type": "code",
   "execution_count": 97,
   "metadata": {},
   "outputs": [
    {
     "name": "stdout",
     "output_type": "stream",
     "text": [
      "Epoch 1/20\n",
      "1889/1889 [==============================] - 13s 6ms/step - loss: 0.8108 - mae: 0.5756 - val_loss: 0.2918 - val_mae: 0.4312\n",
      "Epoch 2/20\n",
      "1889/1889 [==============================] - 11s 6ms/step - loss: 0.2934 - mae: 0.4204 - val_loss: 0.2897 - val_mae: 0.4304\n",
      "Epoch 3/20\n",
      "1889/1889 [==============================] - 10s 5ms/step - loss: 0.2815 - mae: 0.4114 - val_loss: 0.2798 - val_mae: 0.4196\n",
      "Epoch 4/20\n",
      "1889/1889 [==============================] - 10s 5ms/step - loss: 0.2773 - mae: 0.4081 - val_loss: 0.2921 - val_mae: 0.4354\n",
      "Epoch 5/20\n",
      "1889/1889 [==============================] - 10s 5ms/step - loss: 0.2750 - mae: 0.4064 - val_loss: 0.2847 - val_mae: 0.4274\n",
      "Epoch 6/20\n",
      "1889/1889 [==============================] - 10s 5ms/step - loss: 0.2737 - mae: 0.4054 - val_loss: 0.2739 - val_mae: 0.4126\n",
      "Epoch 7/20\n",
      "1889/1889 [==============================] - 10s 5ms/step - loss: 0.2729 - mae: 0.4047 - val_loss: 0.2717 - val_mae: 0.4101\n",
      "Epoch 8/20\n",
      "1889/1889 [==============================] - 11s 6ms/step - loss: 0.2723 - mae: 0.4043 - val_loss: 0.2715 - val_mae: 0.4110\n",
      "Epoch 9/20\n",
      "1889/1889 [==============================] - 11s 6ms/step - loss: 0.2716 - mae: 0.4038 - val_loss: 0.2728 - val_mae: 0.4135\n",
      "Epoch 10/20\n",
      "1889/1889 [==============================] - 11s 6ms/step - loss: 0.2713 - mae: 0.4036 - val_loss: 0.2673 - val_mae: 0.4024\n",
      "Epoch 11/20\n",
      "1889/1889 [==============================] - 11s 6ms/step - loss: 0.2708 - mae: 0.4032 - val_loss: 0.2686 - val_mae: 0.4071\n",
      "Epoch 12/20\n",
      "1889/1889 [==============================] - 11s 6ms/step - loss: 0.2705 - mae: 0.4030 - val_loss: 0.2664 - val_mae: 0.4009\n",
      "Epoch 13/20\n",
      "1889/1889 [==============================] - 10s 5ms/step - loss: 0.2702 - mae: 0.4029 - val_loss: 0.2698 - val_mae: 0.4094\n",
      "Epoch 14/20\n",
      "1889/1889 [==============================] - 10s 5ms/step - loss: 0.2698 - mae: 0.4026 - val_loss: 0.2666 - val_mae: 0.4035\n",
      "Epoch 15/20\n",
      "1889/1889 [==============================] - 10s 6ms/step - loss: 0.2696 - mae: 0.4024 - val_loss: 0.2662 - val_mae: 0.4024\n",
      "Epoch 16/20\n",
      "1889/1889 [==============================] - 11s 6ms/step - loss: 0.2694 - mae: 0.4023 - val_loss: 0.2680 - val_mae: 0.4066\n",
      "Epoch 17/20\n",
      "1889/1889 [==============================] - 10s 5ms/step - loss: 0.2693 - mae: 0.4022 - val_loss: 0.2669 - val_mae: 0.4041\n",
      "Epoch 18/20\n",
      "1889/1889 [==============================] - 11s 6ms/step - loss: 0.2690 - mae: 0.4020 - val_loss: 0.2686 - val_mae: 0.4076\n",
      "Epoch 19/20\n",
      "1889/1889 [==============================] - 11s 6ms/step - loss: 0.2689 - mae: 0.4018 - val_loss: 0.2669 - val_mae: 0.4051\n",
      "Epoch 20/20\n",
      "1889/1889 [==============================] - 11s 6ms/step - loss: 0.2686 - mae: 0.4017 - val_loss: 0.2665 - val_mae: 0.4044\n"
     ]
    },
    {
     "data": {
      "text/plain": [
       "<keras.src.callbacks.History at 0x1b46081dbd0>"
      ]
     },
     "execution_count": 97,
     "metadata": {},
     "output_type": "execute_result"
    }
   ],
   "source": [
    "# Entrenamiento\n",
    "model.fit(\n",
    "    X_train_scaled, \n",
    "    y_train, \n",
    "    epochs=20,\n",
    "    batch_size=1024, \n",
    "    validation_split=0.2, \n",
    "    verbose=1\n",
    ")"
   ]
  },
  {
   "cell_type": "code",
   "execution_count": 98,
   "metadata": {},
   "outputs": [
    {
     "name": "stderr",
     "output_type": "stream",
     "text": [
      "c:\\Python311\\Lib\\site-packages\\keras\\src\\engine\\training.py:3103: UserWarning: You are saving your model as an HDF5 file via `model.save()`. This file format is considered legacy. We recommend using instead the native Keras format, e.g. `model.save('my_model.keras')`.\n",
      "  saving_api.save_model(\n"
     ]
    },
    {
     "name": "stdout",
     "output_type": "stream",
     "text": [
      "INFO:tensorflow:Assets written to: ./models/nn_model2\\assets\n"
     ]
    },
    {
     "name": "stderr",
     "output_type": "stream",
     "text": [
      "INFO:tensorflow:Assets written to: ./models/nn_model2\\assets\n"
     ]
    }
   ],
   "source": [
    "# Guardar el modelo\n",
    "model.save(\"./models/RedNeuronal2.h5\")\n",
    "# Guardar el modelo\n",
    "model.save(\"./models/nn_model2\")"
   ]
  },
  {
   "cell_type": "code",
   "execution_count": 99,
   "metadata": {},
   "outputs": [
    {
     "data": {
      "text/html": [
       "<div>\n",
       "<style scoped>\n",
       "    .dataframe tbody tr th:only-of-type {\n",
       "        vertical-align: middle;\n",
       "    }\n",
       "\n",
       "    .dataframe tbody tr th {\n",
       "        vertical-align: top;\n",
       "    }\n",
       "\n",
       "    .dataframe thead th {\n",
       "        text-align: right;\n",
       "    }\n",
       "</style>\n",
       "<table border=\"1\" class=\"dataframe\">\n",
       "  <thead>\n",
       "    <tr style=\"text-align: right;\">\n",
       "      <th></th>\n",
       "      <th>Filas</th>\n",
       "      <th>Columnas</th>\n",
       "    </tr>\n",
       "  </thead>\n",
       "  <tbody>\n",
       "    <tr>\n",
       "      <th>0</th>\n",
       "      <td>604281</td>\n",
       "      <td>9</td>\n",
       "    </tr>\n",
       "  </tbody>\n",
       "</table>\n",
       "</div>"
      ],
      "text/plain": [
       "    Filas  Columnas\n",
       "0  604281         9"
      ]
     },
     "execution_count": 99,
     "metadata": {},
     "output_type": "execute_result"
    }
   ],
   "source": [
    "pd.DataFrame([X_test.shape], columns=['Filas', 'Columnas'])"
   ]
  },
  {
   "cell_type": "code",
   "execution_count": 104,
   "metadata": {},
   "outputs": [
    {
     "name": "stdout",
     "output_type": "stream",
     "text": [
      "18884/18884 [==============================] - 21s 1ms/step\n"
     ]
    }
   ],
   "source": [
    "y_pred = model.predict(X_test_scaled).flatten()"
   ]
  },
  {
   "cell_type": "code",
   "execution_count": 112,
   "metadata": {},
   "outputs": [
    {
     "data": {
      "text/plain": [
       "array([6.2, 5.7, 5.7, ..., 5.9, 6.3, 5.9], dtype=float32)"
      ]
     },
     "execution_count": 112,
     "metadata": {},
     "output_type": "execute_result"
    }
   ],
   "source": [
    "# aproximar el valor a 1 digito decimal de y_pred\n",
    "y_pred = np.round(y_pred, decimals=1)\n",
    "y_pred"
   ]
  },
  {
   "cell_type": "code",
   "execution_count": 114,
   "metadata": {},
   "outputs": [
    {
     "name": "stdout",
     "output_type": "stream",
     "text": [
      "MSE: 0.2693505829417852\n",
      "MAE: 0.4049612747191094\n",
      "R2: 0.34046051191233584\n"
     ]
    }
   ],
   "source": [
    "# Métricas de evaluación del modelo\n",
    "mse = mean_squared_error(y_test, y_pred)\n",
    "mae = mean_absolute_error(y_test, y_pred)\n",
    "r2 = r2_score(y_test, y_pred)\n",
    "print(\"MSE:\", mse)\n",
    "print(\"MAE:\", mae)\n",
    "print(\"R2:\", r2)"
   ]
  },
  {
   "cell_type": "code",
   "execution_count": 106,
   "metadata": {},
   "outputs": [],
   "source": [
    "# Guardar los resultados\n",
    "results = pd.DataFrame({'Modelo': ['Neural Network 2'],\n",
    "                        'MSE': [mse],\n",
    "                        'MAE': [mae],\n",
    "                        'R2': [r2]})\n",
    "results.to_csv('resultados/RedNeuronal2.csv', index=False)\n"
   ]
  }
 ],
 "metadata": {
  "kernelspec": {
   "display_name": "Python 3",
   "language": "python",
   "name": "python3"
  },
  "language_info": {
   "codemirror_mode": {
    "name": "ipython",
    "version": 3
   },
   "file_extension": ".py",
   "mimetype": "text/x-python",
   "name": "python",
   "nbconvert_exporter": "python",
   "pygments_lexer": "ipython3",
   "version": "3.11.3"
  }
 },
 "nbformat": 4,
 "nbformat_minor": 2
}
