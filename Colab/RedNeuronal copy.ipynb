{
 "cells": [
  {
   "cell_type": "code",
   "execution_count": 1,
   "metadata": {},
   "outputs": [
    {
     "name": "stdout",
     "output_type": "stream",
     "text": [
      "WARNING:tensorflow:From c:\\Python311\\Lib\\site-packages\\keras\\losses.py:2664: The name tf.losses.sparse_softmax_cross_entropy is deprecated. Please use tf.compat.v1.losses.sparse_softmax_cross_entropy instead.\n",
      "\n",
      "GPU no disponible.\n"
     ]
    }
   ],
   "source": [
    "import pandas as pd\n",
    "import numpy as np\n",
    "import os\n",
    "from sklearn.model_selection import train_test_split\n",
    "from sklearn.metrics import mean_squared_error, mean_absolute_error, r2_score\n",
    "import tensorflow as tf\n",
    "from tensorflow import keras\n",
    "from tensorflow.keras.layers import Dense, Dropout, Activation, Input\n",
    "import matplotlib.pyplot as plt\n",
    "import seaborn as sb\n",
    "\n",
    "# Verificar que la GPU está disponible\n",
    "physical_devices = tf.config.list_physical_devices('GPU')\n",
    "if len(physical_devices) > 0:\n",
    "    print(\"GPU disponible.\")\n",
    "else:\n",
    "    print(\"GPU no disponible.\")"
   ]
  },
  {
   "cell_type": "code",
   "execution_count": 2,
   "metadata": {},
   "outputs": [],
   "source": [
    "# Crear la carpeta 'resultados' si no existe\n",
    "if not os.path.exists('resultados'):\n",
    "    os.makedirs('resultados')"
   ]
  },
  {
   "cell_type": "code",
   "execution_count": 3,
   "metadata": {},
   "outputs": [
    {
     "name": "stderr",
     "output_type": "stream",
     "text": [
      "C:\\Users\\Ketbome\\AppData\\Local\\Temp\\ipykernel_17840\\909222528.py:3: DtypeWarning: Columns (25) have mixed types. Specify dtype option on import or set low_memory=False.\n",
      "  data_all = pd.read_csv(cleaned_data_path)\n"
     ]
    }
   ],
   "source": [
    "# Cargar los datos\n",
    "cleaned_data_path = '../datasets/cleaned_data.csv'\n",
    "data_all = pd.read_csv(cleaned_data_path)"
   ]
  },
  {
   "cell_type": "code",
   "execution_count": 4,
   "metadata": {},
   "outputs": [
    {
     "data": {
      "text/html": [
       "<div>\n",
       "<style scoped>\n",
       "    .dataframe tbody tr th:only-of-type {\n",
       "        vertical-align: middle;\n",
       "    }\n",
       "\n",
       "    .dataframe tbody tr th {\n",
       "        vertical-align: top;\n",
       "    }\n",
       "\n",
       "    .dataframe thead th {\n",
       "        text-align: right;\n",
       "    }\n",
       "</style>\n",
       "<table border=\"1\" class=\"dataframe\">\n",
       "  <thead>\n",
       "    <tr style=\"text-align: right;\">\n",
       "      <th></th>\n",
       "      <th>ï»¿AGNO</th>\n",
       "      <th>RBD</th>\n",
       "      <th>DGV_RBD</th>\n",
       "      <th>NOM_RBD</th>\n",
       "      <th>COD_REG_RBD</th>\n",
       "      <th>NOM_REG_RBD_A</th>\n",
       "      <th>COD_PRO_RBD</th>\n",
       "      <th>COD_COM_RBD</th>\n",
       "      <th>NOM_COM_RBD</th>\n",
       "      <th>COD_DEPROV_RBD</th>\n",
       "      <th>...</th>\n",
       "      <th>COD_COM_ALU</th>\n",
       "      <th>NOM_COM_ALU</th>\n",
       "      <th>COD_RAMA</th>\n",
       "      <th>COD_SEC</th>\n",
       "      <th>COD_ESPE</th>\n",
       "      <th>PROM_GRAL</th>\n",
       "      <th>ASISTENCIA</th>\n",
       "      <th>SIT_FIN</th>\n",
       "      <th>SIT_FIN_R</th>\n",
       "      <th>COD_MEN</th>\n",
       "    </tr>\n",
       "  </thead>\n",
       "  <tbody>\n",
       "    <tr>\n",
       "      <th>0</th>\n",
       "      <td>2022</td>\n",
       "      <td>1</td>\n",
       "      <td>9</td>\n",
       "      <td>LICEO POLITECNICO ARICA</td>\n",
       "      <td>15</td>\n",
       "      <td>AYP</td>\n",
       "      <td>151</td>\n",
       "      <td>15101</td>\n",
       "      <td>ARICA</td>\n",
       "      <td>151</td>\n",
       "      <td>...</td>\n",
       "      <td>15101</td>\n",
       "      <td>ARICA</td>\n",
       "      <td>400</td>\n",
       "      <td>410</td>\n",
       "      <td>41001</td>\n",
       "      <td>6.6</td>\n",
       "      <td>98</td>\n",
       "      <td>P</td>\n",
       "      <td>P</td>\n",
       "      <td>0</td>\n",
       "    </tr>\n",
       "    <tr>\n",
       "      <th>1</th>\n",
       "      <td>2022</td>\n",
       "      <td>1</td>\n",
       "      <td>9</td>\n",
       "      <td>LICEO POLITECNICO ARICA</td>\n",
       "      <td>15</td>\n",
       "      <td>AYP</td>\n",
       "      <td>151</td>\n",
       "      <td>15101</td>\n",
       "      <td>ARICA</td>\n",
       "      <td>151</td>\n",
       "      <td>...</td>\n",
       "      <td>15101</td>\n",
       "      <td>ARICA</td>\n",
       "      <td>400</td>\n",
       "      <td>410</td>\n",
       "      <td>41001</td>\n",
       "      <td>6.2</td>\n",
       "      <td>85</td>\n",
       "      <td>P</td>\n",
       "      <td>P</td>\n",
       "      <td>0</td>\n",
       "    </tr>\n",
       "    <tr>\n",
       "      <th>2</th>\n",
       "      <td>2022</td>\n",
       "      <td>1</td>\n",
       "      <td>9</td>\n",
       "      <td>LICEO POLITECNICO ARICA</td>\n",
       "      <td>15</td>\n",
       "      <td>AYP</td>\n",
       "      <td>151</td>\n",
       "      <td>15101</td>\n",
       "      <td>ARICA</td>\n",
       "      <td>151</td>\n",
       "      <td>...</td>\n",
       "      <td>15101</td>\n",
       "      <td>ARICA</td>\n",
       "      <td>400</td>\n",
       "      <td>410</td>\n",
       "      <td>41001</td>\n",
       "      <td>6.3</td>\n",
       "      <td>86</td>\n",
       "      <td>P</td>\n",
       "      <td>P</td>\n",
       "      <td>0</td>\n",
       "    </tr>\n",
       "    <tr>\n",
       "      <th>3</th>\n",
       "      <td>2022</td>\n",
       "      <td>1</td>\n",
       "      <td>9</td>\n",
       "      <td>LICEO POLITECNICO ARICA</td>\n",
       "      <td>15</td>\n",
       "      <td>AYP</td>\n",
       "      <td>151</td>\n",
       "      <td>15101</td>\n",
       "      <td>ARICA</td>\n",
       "      <td>151</td>\n",
       "      <td>...</td>\n",
       "      <td>15101</td>\n",
       "      <td>ARICA</td>\n",
       "      <td>400</td>\n",
       "      <td>410</td>\n",
       "      <td>41001</td>\n",
       "      <td>6.3</td>\n",
       "      <td>100</td>\n",
       "      <td>P</td>\n",
       "      <td>P</td>\n",
       "      <td>0</td>\n",
       "    </tr>\n",
       "    <tr>\n",
       "      <th>4</th>\n",
       "      <td>2022</td>\n",
       "      <td>1</td>\n",
       "      <td>9</td>\n",
       "      <td>LICEO POLITECNICO ARICA</td>\n",
       "      <td>15</td>\n",
       "      <td>AYP</td>\n",
       "      <td>151</td>\n",
       "      <td>15101</td>\n",
       "      <td>ARICA</td>\n",
       "      <td>151</td>\n",
       "      <td>...</td>\n",
       "      <td>15101</td>\n",
       "      <td>ARICA</td>\n",
       "      <td>400</td>\n",
       "      <td>410</td>\n",
       "      <td>41001</td>\n",
       "      <td>6.7</td>\n",
       "      <td>100</td>\n",
       "      <td>P</td>\n",
       "      <td>P</td>\n",
       "      <td>0</td>\n",
       "    </tr>\n",
       "  </tbody>\n",
       "</table>\n",
       "<p>5 rows × 37 columns</p>\n",
       "</div>"
      ],
      "text/plain": [
       "   ï»¿AGNO  RBD  DGV_RBD                  NOM_RBD  COD_REG_RBD NOM_REG_RBD_A  \\\n",
       "0     2022    1        9  LICEO POLITECNICO ARICA           15           AYP   \n",
       "1     2022    1        9  LICEO POLITECNICO ARICA           15           AYP   \n",
       "2     2022    1        9  LICEO POLITECNICO ARICA           15           AYP   \n",
       "3     2022    1        9  LICEO POLITECNICO ARICA           15           AYP   \n",
       "4     2022    1        9  LICEO POLITECNICO ARICA           15           AYP   \n",
       "\n",
       "   COD_PRO_RBD  COD_COM_RBD NOM_COM_RBD  COD_DEPROV_RBD  ... COD_COM_ALU  \\\n",
       "0          151        15101       ARICA             151  ...       15101   \n",
       "1          151        15101       ARICA             151  ...       15101   \n",
       "2          151        15101       ARICA             151  ...       15101   \n",
       "3          151        15101       ARICA             151  ...       15101   \n",
       "4          151        15101       ARICA             151  ...       15101   \n",
       "\n",
       "   NOM_COM_ALU  COD_RAMA  COD_SEC  COD_ESPE  PROM_GRAL  ASISTENCIA  SIT_FIN  \\\n",
       "0        ARICA       400      410     41001        6.6          98        P   \n",
       "1        ARICA       400      410     41001        6.2          85        P   \n",
       "2        ARICA       400      410     41001        6.3          86        P   \n",
       "3        ARICA       400      410     41001        6.3         100        P   \n",
       "4        ARICA       400      410     41001        6.7         100        P   \n",
       "\n",
       "  SIT_FIN_R  COD_MEN  \n",
       "0         P        0  \n",
       "1         P        0  \n",
       "2         P        0  \n",
       "3         P        0  \n",
       "4         P        0  \n",
       "\n",
       "[5 rows x 37 columns]"
      ]
     },
     "execution_count": 4,
     "metadata": {},
     "output_type": "execute_result"
    }
   ],
   "source": [
    "data_all.head()"
   ]
  },
  {
   "cell_type": "code",
   "execution_count": 5,
   "metadata": {},
   "outputs": [
    {
     "name": "stderr",
     "output_type": "stream",
     "text": [
      "C:\\Users\\Ketbome\\AppData\\Local\\Temp\\ipykernel_17840\\3891031790.py:3: DtypeWarning: Columns (25) have mixed types. Specify dtype option on import or set low_memory=False.\n",
      "  data_all = pd.read_csv(cleaned_data_path)\n"
     ]
    }
   ],
   "source": [
    "# Cargar los datos\n",
    "cleaned_data_path = '../datasets/cleaned_data.csv'\n",
    "data_all = pd.read_csv(cleaned_data_path)\n",
    "\n",
    "# Convertir la columna a números, los valores inválidos se convierten en NaN\n",
    "data_all['EDAD_ALU'] = pd.to_numeric(data_all['EDAD_ALU'], errors='coerce')\n",
    "\n",
    "# Eliminar las filas con NaN en la columna 'EDAD_ALU'\n",
    "data_all = data_all.dropna(subset=['EDAD_ALU'])\n",
    "\n",
    "# Borrar las filas donde la columna 'COD_SEC' sea distinto de 0\n",
    "data_all = data_all[data_all['COD_SEC'] == 0]  # Solo alumnos de basica y media\n",
    "\n",
    "# Eliminar la columna 'COD_ENSE'\n",
    "data_all = data_all.drop(columns=['COD_ENSE'])\n",
    "\n",
    "# Observar correlacion para hacer mas limpieza\n",
    "numeric_columns = data_all.select_dtypes(include=np.number).columns\n",
    "correlacion_all = data_all[numeric_columns].corr()\n",
    "\n",
    "# Ver correlacion en base a valor a evaluar\n",
    "correlacion_prom_gral = correlacion_all[\"PROM_GRAL\"].sort_values(\n",
    "    ascending=False)\n",
    "\n",
    "# Obtén los nombres de las columnas con correlación mayor a 0.1\n",
    "columnas_mayor_0_1 = correlacion_prom_gral[correlacion_prom_gral > 0.057].index\n",
    "\n",
    "# Obtén los nombres de las columnas con correlación menor a -0.1\n",
    "columnas_menor_neg_0_1 = correlacion_prom_gral[correlacion_prom_gral < -0.05].index\n",
    "\n",
    "columnas_seleccionadas = columnas_mayor_0_1.tolist() + \\\n",
    "    columnas_menor_neg_0_1.tolist()\n",
    "\n",
    "# Agregar comuna del colegio\n",
    "columnas_seleccionadas.append('COD_COM_RBD')\n",
    "# columnas_seleccionadas.append('DGV_RBD')\n",
    "\n",
    "# Hacer data = data_all con las columnas a usar EDAD_ALU, GEN_ALU, PROM_GRAL\n",
    "data_clear = data_all[columnas_seleccionadas]\n",
    "data = data_clear.drop('FEC_NAC_ALU', axis=1)\n",
    "data = data.drop('COD_GRADO', axis=1)"
   ]
  },
  {
   "cell_type": "code",
   "execution_count": 6,
   "metadata": {},
   "outputs": [
    {
     "data": {
      "text/plain": [
       "<Axes: >"
      ]
     },
     "execution_count": 6,
     "metadata": {},
     "output_type": "execute_result"
    },
    {
     "data": {
      "image/png": "[encoded data removed]",
      "text/plain": [
       "<Figure size 2000x1000 with 2 Axes>"
      ]
     },
     "metadata": {},
     "output_type": "display_data"
    }
   ],
   "source": [
    "#Observar correlacion para hacer mas limpieza\n",
    "plt.figure(figsize=(20,10))\n",
    "sb.heatmap(data.corr(), annot=True, cmap='YlGnBu')\n"
   ]
  },
  {
   "cell_type": "code",
   "execution_count": 7,
   "metadata": {},
   "outputs": [
    {
     "data": {
      "text/plain": [
       "PROM_GRAL      1.000000\n",
       "ASISTENCIA     0.353526\n",
       "GEN_ALU        0.113676\n",
       "COD_DEPE       0.057404\n",
       "COD_COM_RBD   -0.015470\n",
       "COD_JOR       -0.084066\n",
       "COD_ENSE2     -0.257659\n",
       "EDAD_ALU      -0.348045\n",
       "Name: PROM_GRAL, dtype: float64"
      ]
     },
     "execution_count": 7,
     "metadata": {},
     "output_type": "execute_result"
    }
   ],
   "source": [
    "# Ver correlacion en base a valor a evaluar\n",
    "data.corr()[\"PROM_GRAL\"].sort_values(ascending=False)"
   ]
  },
  {
   "cell_type": "code",
   "execution_count": 8,
   "metadata": {},
   "outputs": [
    {
     "data": {
      "text/html": [
       "<div>\n",
       "<style scoped>\n",
       "    .dataframe tbody tr th:only-of-type {\n",
       "        vertical-align: middle;\n",
       "    }\n",
       "\n",
       "    .dataframe tbody tr th {\n",
       "        vertical-align: top;\n",
       "    }\n",
       "\n",
       "    .dataframe thead th {\n",
       "        text-align: right;\n",
       "    }\n",
       "</style>\n",
       "<table border=\"1\" class=\"dataframe\">\n",
       "  <thead>\n",
       "    <tr style=\"text-align: right;\">\n",
       "      <th></th>\n",
       "      <th>Filas</th>\n",
       "      <th>Columnas</th>\n",
       "    </tr>\n",
       "  </thead>\n",
       "  <tbody>\n",
       "    <tr>\n",
       "      <th>0</th>\n",
       "      <td>2929038</td>\n",
       "      <td>8</td>\n",
       "    </tr>\n",
       "  </tbody>\n",
       "</table>\n",
       "</div>"
      ],
      "text/plain": [
       "     Filas  Columnas\n",
       "0  2929038         8"
      ]
     },
     "execution_count": 8,
     "metadata": {},
     "output_type": "execute_result"
    }
   ],
   "source": [
    "# Saber cuantas filas hay y columnas\n",
    "pd.DataFrame([data.shape], columns=['Filas', 'Columnas'])"
   ]
  },
  {
   "cell_type": "code",
   "execution_count": 9,
   "metadata": {},
   "outputs": [],
   "source": [
    "# División de datos\n",
    "X = data.drop(columns=['PROM_GRAL'])\n",
    "y = data['PROM_GRAL']\n",
    "X_train, X_test, y_train, y_test = train_test_split(\n",
    "    X, y, test_size=0.2, random_state=42)"
   ]
  },
  {
   "cell_type": "code",
   "execution_count": 10,
   "metadata": {},
   "outputs": [],
   "source": [
    "from sklearn.preprocessing import StandardScaler\n",
    "from tensorflow.keras import layers\n",
    "\n",
    "# Escalado de características\n",
    "scaler = StandardScaler()\n",
    "X_train_scaled = scaler.fit_transform(X_train) # Ajustar y transformar\n",
    "X_test_scaled = scaler.transform(X_test) # Solo transformar"
   ]
  },
  {
   "cell_type": "code",
   "execution_count": 48,
   "metadata": {},
   "outputs": [],
   "source": [
    "model = keras.Sequential([\n",
    "    layers.Dense(X_train_scaled.shape[1], activation='relu', input_shape=[X_train_scaled.shape[1]]),\n",
    "    layers.Dense(36, activation='relu'),\n",
    "    layers.Dropout(0.2),\n",
    "    layers.Dense(1, activation='gelu')\n",
    "])"
   ]
  },
  {
   "cell_type": "code",
   "execution_count": 49,
   "metadata": {},
   "outputs": [],
   "source": [
    "learning_rate = 0.001\n",
    "\n",
    "model.compile(\n",
    "    optimizer=tf.keras.optimizers.Adam(learning_rate=learning_rate),\n",
    "    loss='mse', # todos los tipos de pérdida: https://keras.io/api/losses/\n",
    "    metrics=['mae'] # todas las métricas: https://keras.io/api/metrics/],\n",
    ")"
   ]
  },
  {
   "cell_type": "code",
   "execution_count": 50,
   "metadata": {},
   "outputs": [
    {
     "name": "stdout",
     "output_type": "stream",
     "text": [
      "Epoch 1/20\n",
      "1831/1831 [==============================] - 6s 2ms/step - loss: 2.8729 - mae: 1.1155 - val_loss: 0.3563 - val_mae: 0.4577\n",
      "Epoch 2/20\n",
      "1831/1831 [==============================] - 4s 2ms/step - loss: 0.7212 - mae: 0.6672 - val_loss: 0.3389 - val_mae: 0.4484\n",
      "Epoch 3/20\n",
      "1831/1831 [==============================] - 4s 2ms/step - loss: 0.6442 - mae: 0.6294 - val_loss: 0.3344 - val_mae: 0.4460\n",
      "Epoch 4/20\n",
      "1831/1831 [==============================] - 4s 2ms/step - loss: 0.5432 - mae: 0.5755 - val_loss: 0.3281 - val_mae: 0.4393\n",
      "Epoch 5/20\n",
      "1831/1831 [==============================] - 4s 2ms/step - loss: 0.4442 - mae: 0.5169 - val_loss: 0.3251 - val_mae: 0.4353\n",
      "Epoch 6/20\n",
      "1831/1831 [==============================] - 4s 2ms/step - loss: 0.3751 - mae: 0.4716 - val_loss: 0.3239 - val_mae: 0.4353\n",
      "Epoch 7/20\n",
      "1831/1831 [==============================] - 4s 2ms/step - loss: 0.3404 - mae: 0.4465 - val_loss: 0.3226 - val_mae: 0.4319\n",
      "Epoch 8/20\n",
      "1831/1831 [==============================] - 4s 2ms/step - loss: 0.3277 - mae: 0.4365 - val_loss: 0.3210 - val_mae: 0.4297\n",
      "Epoch 9/20\n",
      "1831/1831 [==============================] - 4s 2ms/step - loss: 0.3241 - mae: 0.4332 - val_loss: 0.3206 - val_mae: 0.4306\n",
      "Epoch 10/20\n",
      "1831/1831 [==============================] - 5s 2ms/step - loss: 0.3232 - mae: 0.4324 - val_loss: 0.3201 - val_mae: 0.4301\n",
      "Epoch 11/20\n",
      "1831/1831 [==============================] - 5s 3ms/step - loss: 0.3228 - mae: 0.4320 - val_loss: 0.3199 - val_mae: 0.4316\n",
      "Epoch 12/20\n",
      "1831/1831 [==============================] - 5s 3ms/step - loss: 0.3226 - mae: 0.4318 - val_loss: 0.3198 - val_mae: 0.4301\n",
      "Epoch 13/20\n",
      "1831/1831 [==============================] - 6s 3ms/step - loss: 0.3222 - mae: 0.4316 - val_loss: 0.3185 - val_mae: 0.4284\n",
      "Epoch 14/20\n",
      "1831/1831 [==============================] - 5s 3ms/step - loss: 0.3215 - mae: 0.4311 - val_loss: 0.3196 - val_mae: 0.4300\n",
      "Epoch 15/20\n",
      "1831/1831 [==============================] - 5s 3ms/step - loss: 0.3211 - mae: 0.4308 - val_loss: 0.3180 - val_mae: 0.4303\n",
      "Epoch 16/20\n",
      "1831/1831 [==============================] - 5s 3ms/step - loss: 0.3208 - mae: 0.4306 - val_loss: 0.3178 - val_mae: 0.4289\n",
      "Epoch 17/20\n",
      "1831/1831 [==============================] - 5s 3ms/step - loss: 0.3204 - mae: 0.4304 - val_loss: 0.3172 - val_mae: 0.4271\n",
      "Epoch 18/20\n",
      "1831/1831 [==============================] - 4s 2ms/step - loss: 0.3205 - mae: 0.4304 - val_loss: 0.3178 - val_mae: 0.4265\n",
      "Epoch 19/20\n",
      "1831/1831 [==============================] - 4s 2ms/step - loss: 0.3203 - mae: 0.4303 - val_loss: 0.3174 - val_mae: 0.4268\n",
      "Epoch 20/20\n",
      "1831/1831 [==============================] - 5s 3ms/step - loss: 0.3204 - mae: 0.4303 - val_loss: 0.3170 - val_mae: 0.4271\n"
     ]
    },
    {
     "data": {
      "text/plain": [
       "<keras.callbacks.History at 0x1ab0f19c410>"
      ]
     },
     "execution_count": 50,
     "metadata": {},
     "output_type": "execute_result"
    }
   ],
   "source": [
    "# Entrenamiento\n",
    "model.fit(\n",
    "    X_train_scaled, y_train,\n",
    "    validation_split=0.2,\n",
    "    epochs=20,\n",
    "    batch_size=1024,\n",
    "    verbose=1\n",
    ")"
   ]
  },
  {
   "cell_type": "code",
   "execution_count": 35,
   "metadata": {},
   "outputs": [
    {
     "name": "stdout",
     "output_type": "stream",
     "text": [
      "18307/18307 [==============================] - 18s 988us/step\n"
     ]
    }
   ],
   "source": [
    "# Hacer una predicción\n",
    "predicciones = model.predict(X_test_scaled)"
   ]
  },
  {
   "cell_type": "code",
   "execution_count": 36,
   "metadata": {},
   "outputs": [],
   "source": [
    "# aproximar a 1 decimal\n",
    "predicciones = np.round(predicciones, 1)"
   ]
  },
  {
   "cell_type": "code",
   "execution_count": 37,
   "metadata": {},
   "outputs": [
    {
     "name": "stdout",
     "output_type": "stream",
     "text": [
      "Prediccion: [1.], Real: 6.3\n"
     ]
    }
   ],
   "source": [
    "print(f\"Prediccion: {predicciones[6]}, Real: {y_test.iloc[6]}\")"
   ]
  },
  {
   "cell_type": "code",
   "execution_count": 38,
   "metadata": {},
   "outputs": [
    {
     "name": "stdout",
     "output_type": "stream",
     "text": [
      "MAE: 5.034\n",
      "MSE: 25.809\n",
      "R2: -53.633\n"
     ]
    }
   ],
   "source": [
    "# Calcular el error absoluto medio\n",
    "mae = mean_absolute_error(y_test, predicciones)\n",
    "print('MAE: %.3f' % mae)\n",
    "\n",
    "# Calcular el error cuadrático medio\n",
    "mse = mean_squared_error(y_test, predicciones)\n",
    "print('MSE: %.3f' % mse)\n",
    "\n",
    "# Calcular el coeficiente de determinación\n",
    "r2 = r2_score(y_test, predicciones)\n",
    "print('R2: %.3f' % r2)"
   ]
  },
  {
   "cell_type": "code",
   "execution_count": 18,
   "metadata": {},
   "outputs": [
    {
     "name": "stdout",
     "output_type": "stream",
     "text": [
      "INFO:tensorflow:Assets written to: ./models/nn_model4\\assets\n"
     ]
    },
    {
     "name": "stderr",
     "output_type": "stream",
     "text": [
      "INFO:tensorflow:Assets written to: ./models/nn_model4\\assets\n"
     ]
    }
   ],
   "source": [
    "# Guardar el modelo\n",
    "model.save(\"./models/RedNeuronal4.h5\")\n",
    "# Guardar el modelo\n",
    "model.save(\"./models/nn_model4\")"
   ]
  },
  {
   "cell_type": "code",
   "execution_count": 19,
   "metadata": {},
   "outputs": [],
   "source": [
    "# Guardar los resultados\n",
    "results = pd.DataFrame({'Modelo': ['Neural Network'],\n",
    "                        'MSE': [mse],\n",
    "                        'MAE': [mae],\n",
    "                        'R2': [r2]})\n",
    "results.to_csv('resultados/RedNeuronal3.csv', index=False)\n"
   ]
  }
 ],
 "metadata": {
  "kernelspec": {
   "display_name": "Python 3",
   "language": "python",
   "name": "python3"
  },
  "language_info": {
   "codemirror_mode": {
    "name": "ipython",
    "version": 3
   },
   "file_extension": ".py",
   "mimetype": "text/x-python",
   "name": "python",
   "nbconvert_exporter": "python",
   "pygments_lexer": "ipython3",
   "version": "3.11.3"
  }
 },
 "nbformat": 4,
 "nbformat_minor": 2
}
