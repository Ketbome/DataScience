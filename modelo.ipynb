{
 "cells": [
  {
   "cell_type": "code",
   "execution_count": 1,
   "metadata": {},
   "outputs": [],
   "source": [
    "import pandas as pd\n",
    "import numpy as np\n",
    "import matplotlib.pyplot as plt\n",
    "import seaborn as sns\n",
    "import pickle\n",
    "from sklearn.preprocessing import StandardScaler\n",
    "from sklearn.model_selection import train_test_split\n",
    "from sklearn.metrics import confusion_matrix, classification_report\n",
    "from sklearn.linear_model import LogisticRegression\n",
    "from sklearn.ensemble import RandomForestClassifier\n",
    "from sklearn.svm import SVC\n",
    "from sklearn.model_selection import GridSearchCV\n",
    "from sklearn.pipeline import Pipeline"
   ]
  },
  {
   "cell_type": "code",
   "execution_count": 3,
   "metadata": {},
   "outputs": [
    {
     "name": "stderr",
     "output_type": "stream",
     "text": [
      "C:\\Users\\Ketbome\\AppData\\Local\\Temp\\ipykernel_17156\\1325847298.py:3: DtypeWarning: Columns (25) have mixed types. Specify dtype option on import or set low_memory=False.\n",
      "  data_all = pd.read_csv(cleaned_data_path)\n"
     ]
    }
   ],
   "source": [
    "# Cargar los datos\n",
    "cleaned_data_path = 'datasets/cleaned_data.csv'\n",
    "data_all = pd.read_csv(cleaned_data_path)\n",
    "\n",
    "# Convertir la columna a números, los valores inválidos se convierten en NaN\n",
    "data_all['EDAD_ALU'] = pd.to_numeric(data_all['EDAD_ALU'], errors='coerce')\n",
    "\n",
    "# Eliminar las filas con NaN en la columna 'EDAD_ALU'\n",
    "data_all = data_all.dropna(subset=['EDAD_ALU'])\n",
    "\n",
    "# Borrar las filas donde la columna 'COD_SEC' sea distinto de 0\n",
    "data_all = data_all[data_all['COD_SEC'] == 0]  # Solo alumnos de basica y media\n",
    "\n",
    "# Eliminar la columna 'COD_ENSE'\n",
    "data_all = data_all.drop(columns=['COD_ENSE'])\n",
    "\n",
    "# Observar correlacion para hacer mas limpieza\n",
    "numeric_columns = data_all.select_dtypes(include=np.number).columns\n",
    "correlacion_all = data_all[numeric_columns].corr()\n",
    "\n",
    "# Ver correlacion en base a valor a evaluar\n",
    "correlacion_prom_gral = correlacion_all[\"PROM_GRAL\"].sort_values(\n",
    "    ascending=False)\n",
    "\n",
    "# Obtén los nombres de las columnas con correlación mayor a 0.1\n",
    "columnas_mayor_0_1 = correlacion_prom_gral[correlacion_prom_gral > 0.057].index\n",
    "\n",
    "# Obtén los nombres de las columnas con correlación menor a -0.1\n",
    "columnas_menor_neg_0_1 = correlacion_prom_gral[correlacion_prom_gral < -0.05].index\n",
    "\n",
    "columnas_seleccionadas = columnas_mayor_0_1.tolist() + \\\n",
    "    columnas_menor_neg_0_1.tolist()\n",
    "\n",
    "# Agregar comuna del colegio\n",
    "columnas_seleccionadas.append('COD_COM_RBD')\n",
    "# columnas_seleccionadas.append('DGV_RBD')\n",
    "\n",
    "# Hacer data = data_all con las columnas a usar EDAD_ALU, GEN_ALU, PROM_GRAL\n",
    "data_clear = data_all[columnas_seleccionadas]\n",
    "data = data_clear.drop('FEC_NAC_ALU', axis=1)\n",
    "data = data.drop('COD_GRADO', axis=1)"
   ]
  },
  {
   "cell_type": "code",
   "execution_count": 55,
   "metadata": {},
   "outputs": [],
   "source": [
    "\n",
    "# División de datos\n",
    "X = data.drop(columns=['PROM_GRAL'])\n",
    "y = data['PROM_GRAL']\n",
    "X_train, X_test, y_train, y_test = train_test_split(\n",
    "    X, y, test_size=0.2, random_state=42)"
   ]
  },
  {
   "cell_type": "code",
   "execution_count": 26,
   "metadata": {},
   "outputs": [],
   "source": [
    "# Escalar los datos\n",
    "scaler = StandardScaler()\n",
    "X_train = scaler.fit_transform(X_train)\n",
    "X_test = scaler.transform(X_test)"
   ]
  },
  {
   "cell_type": "code",
   "execution_count": 19,
   "metadata": {},
   "outputs": [
    {
     "data": {
      "text/html": [
       "<div>\n",
       "<style scoped>\n",
       "    .dataframe tbody tr th:only-of-type {\n",
       "        vertical-align: middle;\n",
       "    }\n",
       "\n",
       "    .dataframe tbody tr th {\n",
       "        vertical-align: top;\n",
       "    }\n",
       "\n",
       "    .dataframe thead th {\n",
       "        text-align: right;\n",
       "    }\n",
       "</style>\n",
       "<table border=\"1\" class=\"dataframe\">\n",
       "  <thead>\n",
       "    <tr style=\"text-align: right;\">\n",
       "      <th></th>\n",
       "      <th>PROM_GRAL</th>\n",
       "      <th>ASISTENCIA</th>\n",
       "      <th>FEC_NAC_ALU</th>\n",
       "      <th>GEN_ALU</th>\n",
       "      <th>COD_DEPE</th>\n",
       "      <th>COD_GRADO</th>\n",
       "      <th>COD_JOR</th>\n",
       "      <th>COD_ENSE2</th>\n",
       "      <th>EDAD_ALU</th>\n",
       "      <th>COD_COM_RBD</th>\n",
       "    </tr>\n",
       "  </thead>\n",
       "  <tbody>\n",
       "    <tr>\n",
       "      <th>7</th>\n",
       "      <td>4.5</td>\n",
       "      <td>85</td>\n",
       "      <td>200804</td>\n",
       "      <td>1</td>\n",
       "      <td>6</td>\n",
       "      <td>1</td>\n",
       "      <td>1</td>\n",
       "      <td>7</td>\n",
       "      <td>14.0</td>\n",
       "      <td>15101</td>\n",
       "    </tr>\n",
       "    <tr>\n",
       "      <th>8</th>\n",
       "      <td>5.1</td>\n",
       "      <td>89</td>\n",
       "      <td>200704</td>\n",
       "      <td>1</td>\n",
       "      <td>6</td>\n",
       "      <td>1</td>\n",
       "      <td>1</td>\n",
       "      <td>7</td>\n",
       "      <td>15.0</td>\n",
       "      <td>15101</td>\n",
       "    </tr>\n",
       "    <tr>\n",
       "      <th>9</th>\n",
       "      <td>5.3</td>\n",
       "      <td>89</td>\n",
       "      <td>200510</td>\n",
       "      <td>1</td>\n",
       "      <td>6</td>\n",
       "      <td>1</td>\n",
       "      <td>1</td>\n",
       "      <td>7</td>\n",
       "      <td>16.0</td>\n",
       "      <td>15101</td>\n",
       "    </tr>\n",
       "    <tr>\n",
       "      <th>10</th>\n",
       "      <td>5.9</td>\n",
       "      <td>90</td>\n",
       "      <td>200604</td>\n",
       "      <td>2</td>\n",
       "      <td>6</td>\n",
       "      <td>1</td>\n",
       "      <td>1</td>\n",
       "      <td>7</td>\n",
       "      <td>16.0</td>\n",
       "      <td>15101</td>\n",
       "    </tr>\n",
       "    <tr>\n",
       "      <th>11</th>\n",
       "      <td>5.7</td>\n",
       "      <td>90</td>\n",
       "      <td>200801</td>\n",
       "      <td>1</td>\n",
       "      <td>6</td>\n",
       "      <td>1</td>\n",
       "      <td>1</td>\n",
       "      <td>7</td>\n",
       "      <td>14.0</td>\n",
       "      <td>15101</td>\n",
       "    </tr>\n",
       "  </tbody>\n",
       "</table>\n",
       "</div>"
      ],
      "text/plain": [
       "    PROM_GRAL  ASISTENCIA  FEC_NAC_ALU  GEN_ALU  COD_DEPE  COD_GRADO  COD_JOR  \\\n",
       "7         4.5          85       200804        1         6          1        1   \n",
       "8         5.1          89       200704        1         6          1        1   \n",
       "9         5.3          89       200510        1         6          1        1   \n",
       "10        5.9          90       200604        2         6          1        1   \n",
       "11        5.7          90       200801        1         6          1        1   \n",
       "\n",
       "    COD_ENSE2  EDAD_ALU  COD_COM_RBD  \n",
       "7           7      14.0        15101  \n",
       "8           7      15.0        15101  \n",
       "9           7      16.0        15101  \n",
       "10          7      16.0        15101  \n",
       "11          7      14.0        15101  "
      ]
     },
     "execution_count": 19,
     "metadata": {},
     "output_type": "execute_result"
    }
   ],
   "source": [
    "data.head()"
   ]
  },
  {
   "cell_type": "code",
   "execution_count": 33,
   "metadata": {},
   "outputs": [],
   "source": [
    "# probar modelo guardado\n",
    "# libreria para cargar modelo\n",
    "from keras.models import load_model\n",
    "# cargar modelo que esta en una carpeta con assets, variables y modelo\n",
    "model = load_model('resultados/modelo.h5')\n"
   ]
  },
  {
   "cell_type": "code",
   "execution_count": 54,
   "metadata": {},
   "outputs": [
    {
     "name": "stdout",
     "output_type": "stream",
     "text": [
      "18307/18307 [==============================] - 20s 1ms/step\n"
     ]
    }
   ],
   "source": [
    "# predicciones\n",
    "y_pred = model.predict(X_test)"
   ]
  },
  {
   "cell_type": "code",
   "execution_count": 56,
   "metadata": {},
   "outputs": [],
   "source": [
    "# aproximar valores a 1 decimal\n",
    "y_pred = np.around(y_pred, decimals=1)"
   ]
  },
  {
   "cell_type": "code",
   "execution_count": 39,
   "metadata": {},
   "outputs": [
    {
     "data": {
      "text/plain": [
       "(585808, 1)"
      ]
     },
     "execution_count": 39,
     "metadata": {},
     "output_type": "execute_result"
    }
   ],
   "source": [
    "y_pred.shape"
   ]
  },
  {
   "cell_type": "code",
   "execution_count": 52,
   "metadata": {},
   "outputs": [
    {
     "name": "stdout",
     "output_type": "stream",
     "text": [
      "Predicciones:\n",
      "[[6.]\n",
      " [6.]\n",
      " [7.]\n",
      " [6.]\n",
      " [6.]\n",
      " [7.]\n",
      " [6.]\n",
      " [7.]\n",
      " [6.]\n",
      " [6.]]\n",
      "Valores reales:\n",
      "2937053    7.0\n",
      "510731     7.0\n",
      "2554909    6.0\n",
      "1974179    6.0\n",
      "268631     6.0\n",
      "1821374    7.0\n",
      "2834077    6.0\n",
      "3038612    7.0\n",
      "2192887    5.0\n",
      "2207270    5.0\n",
      "Name: PROM_GRAL, dtype: float64\n"
     ]
    }
   ],
   "source": [
    "# mostrar resultados\n",
    "print(\"Predicciones:\")\n",
    "print(y_pred[:10])\n",
    "print(\"Valores reales:\")\n",
    "print(y_test[:10])"
   ]
  },
  {
   "cell_type": "code",
   "execution_count": 57,
   "metadata": {},
   "outputs": [
    {
     "name": "stdout",
     "output_type": "stream",
     "text": [
      "MSE:  0.3134896749494354\n",
      "MAE:  0.4156413110730229\n",
      "RMSE:  0.5599014868255267\n",
      "R2:  0.3363914933873664\n"
     ]
    }
   ],
   "source": [
    "# mse, mae, rmse, r2\n",
    "from sklearn.metrics import mean_squared_error, mean_absolute_error, r2_score\n",
    "\n",
    "mse = mean_squared_error(y_test, y_pred)\n",
    "mae = mean_absolute_error(y_test, y_pred)\n",
    "rmse = np.sqrt(mse)\n",
    "r2 = r2_score(y_test, y_pred)\n",
    "\n",
    "print(\"MSE: \", mse)\n",
    "print(\"MAE: \", mae)\n",
    "print(\"RMSE: \", rmse)\n",
    "print(\"R2: \", r2)"
   ]
  },
  {
   "cell_type": "code",
   "execution_count": 60,
   "metadata": {},
   "outputs": [
    {
     "name": "stdout",
     "output_type": "stream",
     "text": [
      "R2:  0.537473233404711\n"
     ]
    }
   ],
   "source": [
    "from sklearn.metrics import r2_score\n",
    "\n",
    "# Valores reales de y\n",
    "y_test = [3, -0.5, 2, 7]\n",
    "\n",
    "# Valores de y predichos por el modelo\n",
    "y_pred = [2.5, 3.0, 2, 8]\n",
    "\n",
    "# Calcular el valor de R2\n",
    "r2 = r2_score(y_test, y_pred)\n",
    "\n",
    "print(\"R2: \", r2)"
   ]
  }
 ],
 "metadata": {
  "kernelspec": {
   "display_name": "Python 3",
   "language": "python",
   "name": "python3"
  },
  "language_info": {
   "codemirror_mode": {
    "name": "ipython",
    "version": 3
   },
   "file_extension": ".py",
   "mimetype": "text/x-python",
   "name": "python",
   "nbconvert_exporter": "python",
   "pygments_lexer": "ipython3",
   "version": "3.11.3"
  }
 },
 "nbformat": 4,
 "nbformat_minor": 2
}
